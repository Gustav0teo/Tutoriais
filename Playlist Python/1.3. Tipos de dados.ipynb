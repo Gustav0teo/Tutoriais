{
 "cells": [
  {
   "cell_type": "markdown",
   "id": "f3f1d1e0",
   "metadata": {},
   "source": [
    "<img src=\"https://simplesqltutorials.com/wp-content/uploads/2021/06/integer-data-type-featured-image.jpg\">\n",
    "\n",
    "# 1. Introdução\n",
    "\n",
    "## Tipos de dados na programação\n",
    "Na programação, um tipo de dado define um conjunto de valores que uma variável pode assumir. Por exemplo, um número pode ser inteiro (10) ou decimal (5.68). Saber quais tipos de dados estão disponíveis para utilização em uma linguagem de programação e como realizar operações com eles é um elemento fundamental para qualquer desenvolvedor. Por isso, vamos explorar quais são os tipos de dados básicos na linguagem Python. \n",
    "\n",
    "Vale ressaltar que há mais tipos de dados do que mencionarei nesta aula, porém teremos aulas específicas para eles mais para frente no curso.\n",
    "\n",
    "## Tipagem do Python\n",
    "Como sabemos, há linguagens de tipagem estática e dinâmica. Linguagens de tipagem estática devem ser inicializadas com delcaração do tipo de dado. Isso significa que para criar uma variável numérica do tipo inteira, devemos especificar que ela é inteira, não sendo possível alterar seu tipo durante a execução do programa.\n",
    "\n",
    "Linguagens de tipagem dinâmica, como o Python, por outro lado, não exigem declarações de tipos de dados, pois são capazes de atribuir dinamicamente o tipo para cada variável, inclusive podendo alterá-lo durante a execução do programa. Por exemplo, ao escrevermos **x = 3**, o Python automaticamente entende que **x** é do tipo inteiro. Se depois escrevermos **x = \"Olá, mundo!\"**, o Python agora considera **x** como uma string.\n",
    "\n",
    "## Visão geral dos tipos de dados em Python\n",
    "Dentro do Python, há diversos tipos de dados. Abaixo, estão os mais comuns:\n",
    "\n",
    "<ul>\n",
    "    <li> Números (int, float)\n",
    "    <li> Strings (str)\n",
    "    <li> Booleanos (bool)\n",
    "    <li> Listas (list)\n",
    "    <li> Tuplas (tuple)\n",
    "    <li> Dicionários (dict)\n",
    "    <li> Conjuntos (set)\n",
    "</ul>\n",
    "\n",
    "Nesta seção, vamos explorar um pouco sobre os números, strings e booleanos. As listas, tuplas, dicionários e os outros serão abordados detalhadamente em aulas futuras. Além disso, podemos checar o tipo de uma variável utilizando a função **type()**. \n",
    "\n",
    "<hr>\n",
    "\n",
    "# 2. Números\n",
    "\n",
    "## Inteiros (int)\n",
    "Agora, vamos falar sobre os números inteiros. Em Python, eles são representados pelo tipo **int**. Sabemos da matemática que números inteiros são aqueles que não possuem casas decimais, ou seja, alguns exemplos de números inteiros são: 11, 0, -5 e 4. \n",
    "\n",
    "Para criar um inteiro, simplesmente digitamos um número, sem nenhuma marcação especial. Por exemplo, **x = 3** cria uma variável chamada **x** com valor igual a **3**.\n",
    "\n",
    "Podemos realizar diversas operações matemáticas com eles, mas, hoje, abordaremos apenas duas: a soma e subtração, representadas pelos símbolos **+** e **-**, respectivamente. Observe o exemplo de código abaixo:"
   ]
  },
  {
   "cell_type": "code",
   "execution_count": 18,
   "id": "d747f254",
   "metadata": {},
   "outputs": [
    {
     "name": "stdout",
     "output_type": "stream",
     "text": [
      "Soma: 7\n",
      "Subtração: -1\n"
     ]
    }
   ],
   "source": [
    "# Atribuindo o valor 3 à variável x\n",
    "x = 3 \n",
    "\n",
    "# Atribuindo o valor 4 à variável y\n",
    "y = 4\n",
    "\n",
    "# Exibindo o valor da soma de x e y\n",
    "print(f\"Soma: {x + y}\")\n",
    "\n",
    "# Exibindo o valor da subtração de x e y\n",
    "print(f\"Subtração: {x - y}\")"
   ]
  },
  {
   "cell_type": "code",
   "execution_count": 19,
   "id": "18aedaef",
   "metadata": {},
   "outputs": [
    {
     "name": "stdout",
     "output_type": "stream",
     "text": [
      "O valor de x é: 5\n"
     ]
    }
   ],
   "source": [
    "# Substituindo o valor de x de 3 por 5\n",
    "x = 5\n",
    "\n",
    "# Exibindo o valor de x\n",
    "print(f\"O valor de x é: {x}\")"
   ]
  },
  {
   "cell_type": "code",
   "execution_count": 20,
   "id": "a013ac96",
   "metadata": {},
   "outputs": [
    {
     "name": "stdout",
     "output_type": "stream",
     "text": [
      "O valor de z é: 9\n"
     ]
    }
   ],
   "source": [
    "# Atribuindo a soma de x e y a uma variável chamada z\n",
    "z = x + y\n",
    "\n",
    "# Exibindo o valor de z\n",
    "print(f\"O valor de z é: {z}\")"
   ]
  },
  {
   "cell_type": "code",
   "execution_count": 21,
   "id": "4047058d",
   "metadata": {},
   "outputs": [
    {
     "name": "stdout",
     "output_type": "stream",
     "text": [
      "O tipo de x é: <class 'int'>\n",
      "O tipo de y é: <class 'int'>\n",
      "O tipo de z é: <class 'int'>\n"
     ]
    }
   ],
   "source": [
    "# Tipo da variável x\n",
    "print(f\"O tipo de x é: {type(x)}\")\n",
    "\n",
    "# Tipo da variável y\n",
    "print(f\"O tipo de y é: {type(y)}\")\n",
    "\n",
    "# Tipo da variável z\n",
    "print(f\"O tipo de z é: {type(z)}\")"
   ]
  },
  {
   "cell_type": "markdown",
   "id": "96809c01",
   "metadata": {},
   "source": [
    "Note que todas as variáveis tem o tipo **'int'**, ou seja, inteiro."
   ]
  },
  {
   "cell_type": "markdown",
   "id": "e37d7c95",
   "metadata": {},
   "source": [
    "## Decimais (float)\n",
    "Falando sobre os números decimais em Python, eles são representados pelo tipo **float**. Sabemos da matemática que números decimais são aqueles que possuem casas decimais, ou seja, alguns exemplos de números decimais são: 3.14, -0.8, -119.0 e .4. \n",
    "\n",
    "Para criar um decimal, simplesmente digitamos um número, com o ponto (**.**) como marcação especial. Aqui no Brasil, utilizamos a vírgula para separar os números pelas casas decimais. Porém, em Python, é utilizado o ponto (**.**). Por exemplo, **x = 3.14** cria uma variável chamada **x** com valor igual a **3.14**.\n",
    "\n",
    "Podemos realizar diversas operações matemáticas com eles também, mas, como disse, abordaremos apenas a soma e subtração, hoje. Observe o exemplo de código abaixo:"
   ]
  },
  {
   "cell_type": "code",
   "execution_count": 23,
   "id": "a016b011",
   "metadata": {},
   "outputs": [
    {
     "name": "stdout",
     "output_type": "stream",
     "text": [
      "Soma: 2.0\n"
     ]
    }
   ],
   "source": [
    "# Atribuindo o valor 1.8 à variável numero1\n",
    "numero1 = 1.8\n",
    "\n",
    "# Atribuindo o valor 0.2 à variável numero2\n",
    "numero2 = 0.2\n",
    "\n",
    "# Exibindo a soma das variáveis\n",
    "print(f\"Soma: {numero1 + numero2}\")"
   ]
  },
  {
   "cell_type": "markdown",
   "id": "86db2395",
   "metadata": {},
   "source": [
    "Perceba que **.2** é igual a **0.2**"
   ]
  },
  {
   "cell_type": "code",
   "execution_count": 24,
   "id": "82739011",
   "metadata": {
    "scrolled": true
   },
   "outputs": [
    {
     "name": "stdout",
     "output_type": "stream",
     "text": [
      "Subtração: 1.6\n"
     ]
    }
   ],
   "source": [
    "# Atribuindo a subtração de numero1 e numero2 a uma variável chamada resultado\n",
    "resultado = numero1 - numero2\n",
    "\n",
    "# Exibindo o valor da subtração\n",
    "print(f\"Subtração: {resultado}\")"
   ]
  },
  {
   "cell_type": "code",
   "execution_count": 25,
   "id": "ce3e79ac",
   "metadata": {},
   "outputs": [
    {
     "name": "stdout",
     "output_type": "stream",
     "text": [
      "O tipo da variável 'resultado' é: <class 'float'>\n"
     ]
    }
   ],
   "source": [
    "# Exibindo o tipo da variável resultado\n",
    "print(f\"O tipo da variável 'resultado' é: {type(resultado)}\")"
   ]
  },
  {
   "cell_type": "markdown",
   "id": "af7b2238",
   "metadata": {},
   "source": [
    "<hr>\n",
    "\n",
    "# 3. Strings\n",
    "Saindo do mundo dos números, vamos falar sobre as strings. Em Python, elas são representadas pelo tipo **str**. Basicamente, elas são sequências de caracteres, incluindo letras, números e símbolos.\n",
    "\n",
    "Para criar uma string, podemos simplesmente digitar um text entre aspas (simples, duplas ou triplas). Por exemplo, **x = \"Olá, mundo!\"** cria uma variável chamada **x** com valor igual a **\"Olá, mundo!\"**.\n",
    "\n",
    "As strings possuem vários métodos e algumas propriedades que vamos explorar em aulas futuras também. Uma delas vocês já viram que é a formatação com f-string, que serve para incluir o valor das variáveis dentro da string."
   ]
  },
  {
   "cell_type": "code",
   "execution_count": 26,
   "id": "89752d64",
   "metadata": {},
   "outputs": [
    {
     "name": "stdout",
     "output_type": "stream",
     "text": [
      "Nome: João\n",
      "Sobrenome: Lopes\n"
     ]
    }
   ],
   "source": [
    "# Atribuindo o valor 'João' à variável nome\n",
    "nome = 'João'\n",
    "\n",
    "# Atribuindo o valor \"Lopes\" à variável sobrenome\n",
    "sobrenome = \"Lopes\"\n",
    "\n",
    "# Exibindo o nome\n",
    "print(f\"Nome: {nome}\")\n",
    "\n",
    "# Exibindo o sobrenome\n",
    "print(f\"Sobrenome: {sobrenome}\")"
   ]
  },
  {
   "cell_type": "markdown",
   "id": "4968c22c",
   "metadata": {},
   "source": [
    "## Utilização de aspas\n",
    "Agora, quero que você perceba que utilizei aspas simples **'** para o nome e aspas duplas **\"** para o sobrenome. Será que tem diferença ou afeta no tipo? Vamos verificar:"
   ]
  },
  {
   "cell_type": "code",
   "execution_count": 27,
   "id": "16247ff5",
   "metadata": {},
   "outputs": [
    {
     "name": "stdout",
     "output_type": "stream",
     "text": [
      "Tipo da variável nome: <class 'str'>\n",
      "Tipo da variável sobrenome: <class 'str'>\n"
     ]
    }
   ],
   "source": [
    "# Exibindo o tipo da variável nome (aspas simples)\n",
    "print(f\"Tipo da variável nome: {type(nome)}\")\n",
    "\n",
    "# Exibindo o tipo da variável sobrenome (aspas duplas)\n",
    "print(f\"Tipo da variável sobrenome: {type(sobrenome)}\")"
   ]
  },
  {
   "cell_type": "markdown",
   "id": "711ee182",
   "metadata": {},
   "source": [
    "Como podemos ver, o tipo é o mesmo. Então, qual é a diferença entre utilizar aspas simples e duplas? \n",
    "\n",
    "Para responder essa pergunta, observe o código abaixo:"
   ]
  },
  {
   "cell_type": "code",
   "execution_count": 28,
   "id": "716abcc4",
   "metadata": {},
   "outputs": [
    {
     "ename": "SyntaxError",
     "evalue": "invalid syntax (2198170494.py, line 2)",
     "output_type": "error",
     "traceback": [
      "\u001b[1;36m  Cell \u001b[1;32mIn[28], line 2\u001b[1;36m\u001b[0m\n\u001b[1;33m    frase = 'Gota d'água'\u001b[0m\n\u001b[1;37m                    ^\u001b[0m\n\u001b[1;31mSyntaxError\u001b[0m\u001b[1;31m:\u001b[0m invalid syntax\n"
     ]
    }
   ],
   "source": [
    "# Atribuindo o valor 'Gota d'água' à variável frase\n",
    "frase = 'Gota d'água'\n",
    "\n",
    "# Exibindo a frase\n",
    "print(f\"Frase: {frase}\")"
   ]
  },
  {
   "cell_type": "markdown",
   "id": "77601c48",
   "metadata": {},
   "source": [
    "Note que ocorreu um erro de sintaxe. Ele ocorreu porque a frase em si continha aspas simples e estávamos utilizando aspas simples também para definir a string. \n",
    "\n",
    "Para solucionar isso, basta delimitarmos nossa frase com aspas duplas, ao invés de aspas simples."
   ]
  },
  {
   "cell_type": "code",
   "execution_count": 31,
   "id": "532821a5",
   "metadata": {},
   "outputs": [
    {
     "name": "stdout",
     "output_type": "stream",
     "text": [
      "Frase: Gota d'água\n"
     ]
    }
   ],
   "source": [
    "# Atribuindo o valor \"Gota d'água\" à variável frase\n",
    "frase = \"Gota d'água\"\n",
    "\n",
    "# Exibindo a frase\n",
    "print(f\"Frase: {frase}\")"
   ]
  },
  {
   "cell_type": "markdown",
   "id": "e718a731",
   "metadata": {},
   "source": [
    "Note que agora funcionou perfeitamente e o inverso também é válido. Se nossa frase original tivesse aspas duplas, devemos utilizar aspas simples para delimitar a variável.\n",
    "\n",
    "Agora, vem a questão: e se tivermos, na frase, aspas duplas e simples?\n",
    "\n",
    "Neste caso, utilizaremos aspas triplas!"
   ]
  },
  {
   "cell_type": "code",
   "execution_count": 32,
   "id": "42864ae4",
   "metadata": {},
   "outputs": [
    {
     "name": "stdout",
     "output_type": "stream",
     "text": [
      "Frase: \"É a gota d'água\", ela disse.\n"
     ]
    }
   ],
   "source": [
    "# Atribuindo o valor '''\"É a gota d'água\", ela disse.''' à variável frase\n",
    "frase = '''\"É a gota d'água\", ela disse.'''\n",
    "\n",
    "# Exibindo a frase\n",
    "print(f\"Frase: {frase}\")"
   ]
  },
  {
   "cell_type": "markdown",
   "id": "d09c80bd",
   "metadata": {},
   "source": [
    "Note que a frase possui tanto aspas simples quanto aspas duplas, por isso utilizamos aspas triplas para delimitar a variável.\n",
    "\n",
    "Além disso, as aspas triplas nos permite escrever em mais de uma linha, como no exemplo abaixo:"
   ]
  },
  {
   "cell_type": "code",
   "execution_count": 34,
   "id": "96dcae7c",
   "metadata": {},
   "outputs": [
    {
     "name": "stdout",
     "output_type": "stream",
     "text": [
      "Frase: Esta é\n",
      "uma frase em\n",
      "linhas diferentes\n",
      "\n"
     ]
    }
   ],
   "source": [
    "# Atribuindo o valor \"Esta é uma frase em linhas diferentes\" à variável frase\n",
    "frase = \"\"\"Esta é\n",
    "uma frase em\n",
    "linhas diferentes\n",
    "\"\"\"\n",
    "\n",
    "# Exibindo a frase\n",
    "print(f\"Frase: {frase}\")"
   ]
  },
  {
   "cell_type": "markdown",
   "id": "64a3a2be",
   "metadata": {},
   "source": [
    "Por fim, para simplificar a leitura de strings em variáveis, podemos utilizar o caractere **escape ( \\\\ )**, que é a barra invertida. Ele nos permite armazenar caracteres que normalmente não podem ser armazenados em uma variável do tipo string, como as as aspas, por exemplo. \n",
    "\n",
    "Ele facilita muito a leitura e deve ser utilizado sempre que possível. Observe o código abaixo:"
   ]
  },
  {
   "cell_type": "code",
   "execution_count": 35,
   "id": "d711b0d3",
   "metadata": {},
   "outputs": [
    {
     "name": "stdout",
     "output_type": "stream",
     "text": [
      "Frase: \"Ele disse: 'você não pode fazer isso.'\"\n"
     ]
    }
   ],
   "source": [
    "# Atribuindo o valor \"\"Ele disse: 'você não pode fazer isso.'\"\" à variável frase\n",
    "frase = \"\\\"Ele disse: \\'você não pode fazer isso.\\'\\\"\"\n",
    "\n",
    "# Exibindo a frase\n",
    "print(f\"Frase: {frase}\")"
   ]
  },
  {
   "cell_type": "markdown",
   "id": "4592e943",
   "metadata": {},
   "source": [
    "## Tratando números como strings\n",
    "Vou utilizar este tópico para fazer um aviso: se você quiser trabalhar com operações artiméticas como soma, subtração, multiplicação etc., não poderá trabalhar com números em formato de string! Observe o erro do exemplo abaixo:"
   ]
  },
  {
   "cell_type": "code",
   "execution_count": 36,
   "id": "a2db3b8b",
   "metadata": {},
   "outputs": [],
   "source": [
    "# Atribuindo o valor \"3\" à variável n1\n",
    "n1 = \"3\"\n",
    "\n",
    "# Atribuindo o valor \"4\" à variável n2\n",
    "n2 = \"4\""
   ]
  },
  {
   "cell_type": "code",
   "execution_count": 37,
   "id": "803bfa8c",
   "metadata": {},
   "outputs": [
    {
     "name": "stdout",
     "output_type": "stream",
     "text": [
      "Tipo de n1: <class 'str'>\n",
      "Tipo de n2: <class 'str'>\n"
     ]
    }
   ],
   "source": [
    "# Checando os tipos das variáveis\n",
    "print(f\"Tipo de n1: {type(n1)}\\nTipo de n2: {type(n2)}\")"
   ]
  },
  {
   "cell_type": "code",
   "execution_count": 38,
   "id": "19d8687c",
   "metadata": {},
   "outputs": [
    {
     "name": "stdout",
     "output_type": "stream",
     "text": [
      "Soma: 34\n"
     ]
    }
   ],
   "source": [
    "# Somando os números\n",
    "print(f\"Soma: {n1 + n2}\")"
   ]
  },
  {
   "cell_type": "code",
   "execution_count": 39,
   "id": "afb40a66",
   "metadata": {},
   "outputs": [
    {
     "ename": "TypeError",
     "evalue": "unsupported operand type(s) for -: 'str' and 'str'",
     "output_type": "error",
     "traceback": [
      "\u001b[1;31m---------------------------------------------------------------------------\u001b[0m",
      "\u001b[1;31mTypeError\u001b[0m                                 Traceback (most recent call last)",
      "Cell \u001b[1;32mIn[39], line 2\u001b[0m\n\u001b[0;32m      1\u001b[0m \u001b[38;5;66;03m# Subtraindo um número pelo outro\u001b[39;00m\n\u001b[1;32m----> 2\u001b[0m \u001b[38;5;28mprint\u001b[39m(\u001b[38;5;124mf\u001b[39m\u001b[38;5;124m\"\u001b[39m\u001b[38;5;124mSubtração: \u001b[39m\u001b[38;5;132;01m{\u001b[39;00mn1 \u001b[38;5;241m-\u001b[39m n2\u001b[38;5;132;01m}\u001b[39;00m\u001b[38;5;124m\"\u001b[39m)\n",
      "\u001b[1;31mTypeError\u001b[0m: unsupported operand type(s) for -: 'str' and 'str'"
     ]
    }
   ],
   "source": [
    "# Subtraindo um número pelo outro\n",
    "print(f\"Subtração: {n1 - n2}\")"
   ]
  },
  {
   "cell_type": "markdown",
   "id": "418f062e",
   "metadata": {},
   "source": [
    "Note que nos dois casos (soma e subtração) o resultado não foi o esperado. No primeiro (soma), esperávamos 7 (3 + 4), porém o resultado foi 34. Isso significa que quando somamos strings estamos, na verdade, fazendo a concatenação delas. No segundo (subtração), obtivemos um erro, visto que strings não suportam a utilização do operador **-**. \n",
    "\n",
    "Lembra da função **input()**, que vimos no módulo anterior? Então, ela retorna uma string. Ou seja, quando solicitamos que o usuário digite sua idade, estamos recebendo uma string, não um inteiro. No final desta aula, vamos falar sobre como fazer a conversão entre tipos."
   ]
  },
  {
   "cell_type": "markdown",
   "id": "d3da49ab",
   "metadata": {},
   "source": [
    "<hr>\n",
    "\n",
    "# 4. Booleanos\n",
    "Agora que já falamos sobre os números e os textos, vamos falar sobre os booleanos! Talvez, você não conheça de cara esses caras, porque não são tão comuns quanto números e textos, mas tenho certeza de que vai entender. Em Python, o tipo booleano **bool** é um tipo de dado que só pode ter dois valores: **True** (verdadeiro) e **False** (falso). Eles são muito úteis em expressões condicionais e loops que veremos mais a frente. As regras para lidar com valores booleanos são simples: **True** é tratado como **1**, e **False** é tratado como **0**, uma herança da linguagem C, que tinham o tipo booleano como nativo. \n",
    "\n",
    "Para criar um valor booleano, podemos simplesmente comparar expressões (que veremos mais a frente) ou definir uma variável com os valores **True** ou **False**. Por exemplo, **x = True** cria uma variável chamada **x** com valor igual a **True**."
   ]
  },
  {
   "cell_type": "code",
   "execution_count": 40,
   "id": "aa63765f",
   "metadata": {},
   "outputs": [
    {
     "name": "stdout",
     "output_type": "stream",
     "text": [
      "V1: True\n",
      "V2: False\n"
     ]
    }
   ],
   "source": [
    "# Atribuindo o valor True à variável v1\n",
    "v1 = True\n",
    "\n",
    "# Atribuindo o valor False à variável v2\n",
    "v2 = False\n",
    "\n",
    "# Exibindo v1\n",
    "print(f\"V1: {v1}\")\n",
    "\n",
    "# Exibindo v2\n",
    "print(f\"V2: {v2}\")"
   ]
  },
  {
   "cell_type": "code",
   "execution_count": 41,
   "id": "e9705d20",
   "metadata": {},
   "outputs": [
    {
     "name": "stdout",
     "output_type": "stream",
     "text": [
      "Tipo de v1: <class 'bool'>\n"
     ]
    }
   ],
   "source": [
    "# Exibindo o tipo da variável v1\n",
    "print(f\"Tipo de v1: {type(v1)}\")"
   ]
  },
  {
   "cell_type": "code",
   "execution_count": 42,
   "id": "901c5d02",
   "metadata": {},
   "outputs": [
    {
     "name": "stdout",
     "output_type": "stream",
     "text": [
      "V3: 1\n"
     ]
    }
   ],
   "source": [
    "# Atribuindo o valor da soma de v1 e v2 à variável v3\n",
    "v3 = v1 + v2\n",
    "\n",
    "# Exibindo v3\n",
    "print(f\"V3: {v3}\")"
   ]
  },
  {
   "cell_type": "markdown",
   "id": "e868ad0d",
   "metadata": {},
   "source": [
    "Note que o resultado foi 1, visto que v1 é True (um valor espacial para o inteiro 1) e v2 é False (um valor especial para o inteiro 0)."
   ]
  },
  {
   "cell_type": "markdown",
   "id": "6394ce85",
   "metadata": {},
   "source": [
    "## Verificando a presença de caracteres em uma string usando funções is\n",
    "As funções **is** em Python retornam **True** se todos os caracteres de uma string atendem a determinada condição e **False** caso contrário. \n",
    "\n",
    "Essas funções podem ser usadas para validar a entrada do usuário ou para verificar se uma string contém um determinado tipo de caractere. Por exemplo, você pode usar a função **isdigit()** para verificar se uma string contém apenas dígitos, ou a função **isalpha()** para verificar se uma string contém apenas letras. Aqui está um exemplo de código que usa a função **isalpha()** para verificar se uma string contém apenas letras: "
   ]
  },
  {
   "cell_type": "code",
   "execution_count": 43,
   "id": "8c6ea342",
   "metadata": {},
   "outputs": [
    {
     "name": "stdout",
     "output_type": "stream",
     "text": [
      "Contém apenas letras do alfabeto? False\n"
     ]
    }
   ],
   "source": [
    "# Atribuindo o valor \"Linda demais <3\" à variável x\n",
    "x = \"Linda demais <3\"\n",
    "\n",
    "# Verificando se possui apenas letras do alfabeto\n",
    "print(f\"Contém apenas letras do alfabeto? {x.isalpha()}\")"
   ]
  },
  {
   "cell_type": "markdown",
   "id": "2d3212df",
   "metadata": {},
   "source": [
    "Note que retornou **False**, visto que temos os caracteres '<' e '3'. Abaixo, segue uma lista de algumas dessas funções:\n",
    "\n",
    "<ul>\n",
    "    <li> isdigit(): Retorna True se todos os caracteres da string são dígitos, e False caso contrário.\n",
    "    <li> isalpha(): Retorna True se todos os caracteres da string são letras do alfabeto, e False caso contrário.\n",
    "    <li> isalnum(): Retorna True se todos os caracteres da string são alfanuméricos (letras ou dígitos), e False caso contrário. \n",
    "    <li> islower(): Retorna True se todos os caracteres da string são letras minúsculas, e False caso contrário. \n",
    "    <li> isupper(): Retorna True se todos os caracteres da string são letras maiúsculas, e False caso contrário.\n",
    "    <li> isspace(): Retorna True se todos os caracteres da string são caracteres de espaço em branco, como espaço, tabulação ou quebra de linha, e False caso contrário.\n",
    "</ul>"
   ]
  },
  {
   "cell_type": "markdown",
   "id": "d1faccec",
   "metadata": {},
   "source": [
    "<hr>\n",
    "\n",
    "# 5. Conversão entre tipos\n",
    "Na maioria das tarefas do dia a dia, é comum precisarmos converter um tipo de dado em outro. Por exemplo, podemos precisar converter um número inteiro em uma string para exibí-la na tela, ou converter uma string em um número para realizar cálculos matemáticos. Nesta seção, vamos falar sobre a conversão entre os tipos de dados mais comuns: **int**, **float**, **str** e **bool**, que são inteiros, decimais, strings e booleanos, respectivamente.\n",
    "\n",
    "## Inteiro int()\n",
    "Podemos converter outros tipos de dados em um inteiro utilizando a função **int()**. \n",
    "\n",
    "### str -> int\n",
    "Por exemplo, se quisermos converter a string \"20\" para um número inteiro, podemos reproduzir o código abaixo:"
   ]
  },
  {
   "cell_type": "code",
   "execution_count": 44,
   "id": "4491530c",
   "metadata": {},
   "outputs": [
    {
     "name": "stdout",
     "output_type": "stream",
     "text": [
      "<class 'str'>\n"
     ]
    }
   ],
   "source": [
    "# Atribuindo o valor \"20\" à variável valor\n",
    "valor = \"20\"\n",
    "\n",
    "# Checando o tipo da variável\n",
    "print(type(valor))"
   ]
  },
  {
   "cell_type": "code",
   "execution_count": 50,
   "id": "228d2acc",
   "metadata": {},
   "outputs": [
    {
     "name": "stdout",
     "output_type": "stream",
     "text": [
      "<class 'int'>\n",
      "Valor de inteiro: 20\n"
     ]
    }
   ],
   "source": [
    "# Connvertendo a variável para um número inteiro\n",
    "numero = int(valor)\n",
    "\n",
    "# Checando o tipo da variável\n",
    "print(type(numero))\n",
    "\n",
    "# Exibindo o valor de numero\n",
    "print(f\"Valor de inteiro: {numero}\")"
   ]
  },
  {
   "cell_type": "markdown",
   "id": "afe0f6da",
   "metadata": {},
   "source": [
    "Neste caso, a variável **numero** recebeu o número 20, que é a representação numérica da string \"20\". Entretando, não conseguimos converter uma frase em um inteiro, por exemplo. Observe o erro do código abaixo:"
   ]
  },
  {
   "cell_type": "code",
   "execution_count": 51,
   "id": "261d08d8",
   "metadata": {},
   "outputs": [
    {
     "ename": "ValueError",
     "evalue": "invalid literal for int() with base 10: 'Olá, mundo!'",
     "output_type": "error",
     "traceback": [
      "\u001b[1;31m---------------------------------------------------------------------------\u001b[0m",
      "\u001b[1;31mValueError\u001b[0m                                Traceback (most recent call last)",
      "Cell \u001b[1;32mIn[51], line 2\u001b[0m\n\u001b[0;32m      1\u001b[0m \u001b[38;5;66;03m# Tentativa de conversão\u001b[39;00m\n\u001b[1;32m----> 2\u001b[0m \u001b[38;5;28;43mint\u001b[39;49m\u001b[43m(\u001b[49m\u001b[38;5;124;43m\"\u001b[39;49m\u001b[38;5;124;43mOlá, mundo!\u001b[39;49m\u001b[38;5;124;43m\"\u001b[39;49m\u001b[43m)\u001b[49m\n",
      "\u001b[1;31mValueError\u001b[0m: invalid literal for int() with base 10: 'Olá, mundo!'"
     ]
    }
   ],
   "source": [
    "# Tentativa de conversão\n",
    "int(\"Olá, mundo!\")"
   ]
  },
  {
   "cell_type": "markdown",
   "id": "087beb08",
   "metadata": {},
   "source": [
    "Uma aplicação da função para converter de string para inteiro é quando recebemos algum valor que era para ser numérico utilizando a função **input()**.\n",
    "\n",
    "### float -> int\n",
    "Por exemplo, se quisermos converter o valor 5.6 para um número inteiro, podemos reproduzir o código abaixo:"
   ]
  },
  {
   "cell_type": "code",
   "execution_count": 58,
   "id": "68407644",
   "metadata": {},
   "outputs": [
    {
     "name": "stdout",
     "output_type": "stream",
     "text": [
      "<class 'float'>\n"
     ]
    }
   ],
   "source": [
    "# Atribuindo o valor 5.6 à variável valor\n",
    "valor = 5.6\n",
    "\n",
    "# Checando o tipo da variável\n",
    "print(type(valor))"
   ]
  },
  {
   "cell_type": "code",
   "execution_count": 59,
   "id": "81769bca",
   "metadata": {},
   "outputs": [
    {
     "name": "stdout",
     "output_type": "stream",
     "text": [
      "<class 'int'>\n"
     ]
    }
   ],
   "source": [
    "# Connvertendo a variável para um número inteiro\n",
    "inteiro = int(valor)\n",
    "\n",
    "# Checando o tipo da variável\n",
    "print(type(inteiro))"
   ]
  },
  {
   "cell_type": "code",
   "execution_count": 60,
   "id": "5430085b",
   "metadata": {},
   "outputs": [
    {
     "name": "stdout",
     "output_type": "stream",
     "text": [
      "Valor dei 'inteiro': 5\n"
     ]
    }
   ],
   "source": [
    "# Exibindo o valor de 'inteiro'\n",
    "print(f\"Valor dei 'inteiro': {inteiro}\")"
   ]
  },
  {
   "cell_type": "markdown",
   "id": "02a9c29b",
   "metadata": {},
   "source": [
    "Note que a conversão de um decimal para inteiro, ao chamar a função int, ocorre com o truncamento do número. Isso significa que ele desconsidera as casas decimais e pega apenas a parte inteira. Ou seja, **não** é um arredondamento, é um truncamento.\n",
    "\n",
    "## Decimais float()\n",
    "Podemos converter outros tipos de dados em decimal utilizando a função **float()**. \n",
    "\n",
    "### str -> float\n",
    "Por exemplo, se quisermos converter a string \"0.29\" em um número decimal, podemos reproduzir o código abaixo:"
   ]
  },
  {
   "cell_type": "code",
   "execution_count": 61,
   "id": "5cb7de4c",
   "metadata": {},
   "outputs": [
    {
     "name": "stdout",
     "output_type": "stream",
     "text": [
      "<class 'str'>\n"
     ]
    }
   ],
   "source": [
    "# Atribuindo o valor \"0.29\" à variável valor\n",
    "valor = \"0.29\"\n",
    "\n",
    "# Checando o tipo da variável\n",
    "print(type(valor))"
   ]
  },
  {
   "cell_type": "code",
   "execution_count": 65,
   "id": "0dca5e0d",
   "metadata": {},
   "outputs": [
    {
     "name": "stdout",
     "output_type": "stream",
     "text": [
      "<class 'float'>\n",
      "O valor de número é: 0.29\n"
     ]
    }
   ],
   "source": [
    "# Connvertendo a variável para um número decimal\n",
    "numero = float(valor)\n",
    "\n",
    "# Checando o tipo da variável\n",
    "print(type(numero))\n",
    "\n",
    "# Exibindo o valor de 'numero'\n",
    "print(f\"O valor de número é: {numero}\")"
   ]
  },
  {
   "cell_type": "markdown",
   "id": "fee8378f",
   "metadata": {},
   "source": [
    "### int -> float\n",
    "Por exemplo, se quisermos converter o valor intieor 5 em um número decimal, podemos reproduzir o código abaixo:"
   ]
  },
  {
   "cell_type": "code",
   "execution_count": 66,
   "id": "db658950",
   "metadata": {},
   "outputs": [
    {
     "name": "stdout",
     "output_type": "stream",
     "text": [
      "<class 'int'>\n"
     ]
    }
   ],
   "source": [
    "# Atribuindo o valor 5 à variável valor\n",
    "valor = 5\n",
    "\n",
    "# Checando o tipo da variável\n",
    "print(type(valor))"
   ]
  },
  {
   "cell_type": "code",
   "execution_count": 67,
   "id": "cf615b83",
   "metadata": {},
   "outputs": [
    {
     "name": "stdout",
     "output_type": "stream",
     "text": [
      "<class 'float'>\n"
     ]
    }
   ],
   "source": [
    "# Connvertendo a variável para um número decimal\n",
    "decimal = float(valor)\n",
    "\n",
    "# Checando o tipo da variável\n",
    "print(type(decimal))"
   ]
  },
  {
   "cell_type": "code",
   "execution_count": 68,
   "id": "3da1746a",
   "metadata": {},
   "outputs": [
    {
     "name": "stdout",
     "output_type": "stream",
     "text": [
      "O valor de 'decimal' é: 5.0\n"
     ]
    }
   ],
   "source": [
    "# Exibindo o valor de 'decimal'\n",
    "print(f\"O valor de 'decimal' é: {decimal}\")"
   ]
  },
  {
   "cell_type": "markdown",
   "id": "523302df",
   "metadata": {},
   "source": [
    "Note que a única diferença foi a presença do ponto flutuante, ou seja, do **.0** após o 5.\n",
    "\n",
    "## Strings str()\n",
    "Podemos converter outros tipos de dados em strings usando a função **str()**. Por exemplo, se quisermos converter um número em uma string, podemos reproduzir o código abaixo:"
   ]
  },
  {
   "cell_type": "code",
   "execution_count": 69,
   "id": "f372cd52",
   "metadata": {},
   "outputs": [
    {
     "name": "stdout",
     "output_type": "stream",
     "text": [
      "<class 'int'>\n"
     ]
    }
   ],
   "source": [
    "# Atribuindo o valor 5 à variável valor\n",
    "valor = 5\n",
    "\n",
    "# Checando o tipo da variável\n",
    "print(type(valor))"
   ]
  },
  {
   "cell_type": "code",
   "execution_count": 72,
   "id": "21404f14",
   "metadata": {},
   "outputs": [
    {
     "name": "stdout",
     "output_type": "stream",
     "text": [
      "<class 'str'>\n",
      "Valor da variável: 5\n"
     ]
    }
   ],
   "source": [
    "# Connvertendo a variável para uma string\n",
    "variavel = str(valor)\n",
    "\n",
    "# Checando o tipo da variável\n",
    "print(type(variavel))\n",
    "\n",
    "# Exibindo o valor da variavel\n",
    "print(f\"Valor da variável: {variavel}\")"
   ]
  },
  {
   "cell_type": "markdown",
   "id": "d3ab1483",
   "metadata": {},
   "source": [
    "## Booleanos bool()\n",
    "Podemos converter outros tipos de dados em valores booleanos usando a função **bool()**. \n",
    "\n",
    "### str -> bool\n",
    "Por exemplo, se quisermos converter uma string em um booleano, podemos reproduzir o código abaixo:"
   ]
  },
  {
   "cell_type": "code",
   "execution_count": 73,
   "id": "d1248b03",
   "metadata": {},
   "outputs": [
    {
     "name": "stdout",
     "output_type": "stream",
     "text": [
      "<class 'str'>\n"
     ]
    }
   ],
   "source": [
    "# Atribuindo o valor \"Olá, Mundo!\" à variável valor\n",
    "valor = \"Olá, Mundo!\"\n",
    "\n",
    "# Checando o tipo da variável\n",
    "print(type(valor))"
   ]
  },
  {
   "cell_type": "code",
   "execution_count": 74,
   "id": "af64c113",
   "metadata": {},
   "outputs": [
    {
     "name": "stdout",
     "output_type": "stream",
     "text": [
      "<class 'bool'>\n"
     ]
    }
   ],
   "source": [
    "# Connvertendo a variável para um booleano\n",
    "booleano = bool(valor)\n",
    "\n",
    "# Checando o tipo da variável\n",
    "print(type(booleano))"
   ]
  },
  {
   "cell_type": "code",
   "execution_count": 75,
   "id": "ecb13251",
   "metadata": {},
   "outputs": [
    {
     "name": "stdout",
     "output_type": "stream",
     "text": [
      "Valor de booleano: True\n"
     ]
    }
   ],
   "source": [
    "# Exibindo o valor de 'booleano'\n",
    "print(f\"Valor de booleano: {booleano}\")"
   ]
  },
  {
   "cell_type": "markdown",
   "id": "b96927e7",
   "metadata": {},
   "source": [
    "Quando convertermos uma string para um booleano, o valor **True** será exibido quando a string não for vazia. Caso contrário, ou seja, caso a string seja vazia, o resultado será **False**. Observe um exemplo de retorno **False** abaixo:"
   ]
  },
  {
   "cell_type": "code",
   "execution_count": 76,
   "id": "7c4eafeb",
   "metadata": {},
   "outputs": [
    {
     "name": "stdout",
     "output_type": "stream",
     "text": [
      "<class 'str'>\n"
     ]
    }
   ],
   "source": [
    "# Atribuindo o valor \"\" à variável valor\n",
    "valor = \"\"\n",
    "\n",
    "# Checando o tipo da variável\n",
    "print(type(valor))"
   ]
  },
  {
   "cell_type": "code",
   "execution_count": 77,
   "id": "654ba661",
   "metadata": {},
   "outputs": [
    {
     "name": "stdout",
     "output_type": "stream",
     "text": [
      "<class 'bool'>\n"
     ]
    }
   ],
   "source": [
    "# Connvertendo a variável para um booleano\n",
    "booleano = bool(valor)\n",
    "\n",
    "# Checando o tipo da variável\n",
    "print(type(booleano))"
   ]
  },
  {
   "cell_type": "code",
   "execution_count": 78,
   "id": "4ae3b281",
   "metadata": {},
   "outputs": [
    {
     "name": "stdout",
     "output_type": "stream",
     "text": [
      "O valor de booleano é: False\n"
     ]
    }
   ],
   "source": [
    "# Exibindo o valor de 'booleano'\n",
    "print(f\"O valor de booleano é: {booleano}\")"
   ]
  },
  {
   "cell_type": "markdown",
   "id": "92037a27",
   "metadata": {},
   "source": [
    "### int | float -> bool\n",
    "Por exemplo, se quisermos converter um inteiro em um booleano, podemos reproduzir o código abaixo:"
   ]
  },
  {
   "cell_type": "code",
   "execution_count": 81,
   "id": "be40e3f7",
   "metadata": {},
   "outputs": [
    {
     "name": "stdout",
     "output_type": "stream",
     "text": [
      "<class 'int'>\n"
     ]
    }
   ],
   "source": [
    "# Atribuindo o valor 53 à variável valor\n",
    "valor = 53\n",
    "\n",
    "# Checando o tipo da variável\n",
    "print(type(valor))"
   ]
  },
  {
   "cell_type": "code",
   "execution_count": 82,
   "id": "390c94d0",
   "metadata": {},
   "outputs": [
    {
     "name": "stdout",
     "output_type": "stream",
     "text": [
      "<class 'bool'>\n"
     ]
    }
   ],
   "source": [
    "# Connvertendo a variável para um booleano\n",
    "booleano = bool(valor)\n",
    "\n",
    "# Checando o tipo da variável\n",
    "print(type(booleano))"
   ]
  },
  {
   "cell_type": "code",
   "execution_count": 83,
   "id": "910f9fb6",
   "metadata": {},
   "outputs": [
    {
     "name": "stdout",
     "output_type": "stream",
     "text": [
      "O valor de booleano é: True\n"
     ]
    }
   ],
   "source": [
    "# Exibindo o valor de 'booleano'\n",
    "print(f\"O valor de booleano é: {booleano}\")"
   ]
  },
  {
   "cell_type": "markdown",
   "id": "f8ac440d",
   "metadata": {},
   "source": [
    "Quando convertermos um inteiro ou um decimal para um booleano, o valor **True** será exibido quando seu valor for diferente de zero (0 ou 0.0). Caso contrário, ou seja, caso o inteiro ou o decimal seja igual a zero, o resultado será **False**. Observe um exemplo de retorno **False** abaixo:"
   ]
  },
  {
   "cell_type": "code",
   "execution_count": 84,
   "id": "bbe15888",
   "metadata": {},
   "outputs": [
    {
     "name": "stdout",
     "output_type": "stream",
     "text": [
      "<class 'float'>\n"
     ]
    }
   ],
   "source": [
    "# Atribuindo o valor 0.0 à variável valor\n",
    "valor = 0.0\n",
    "\n",
    "# Checando o tipo da variável\n",
    "print(type(valor))"
   ]
  },
  {
   "cell_type": "code",
   "execution_count": 85,
   "id": "74992475",
   "metadata": {},
   "outputs": [
    {
     "name": "stdout",
     "output_type": "stream",
     "text": [
      "<class 'bool'>\n"
     ]
    }
   ],
   "source": [
    "# Connvertendo a variável para um booleano\n",
    "booleano = bool(valor)\n",
    "\n",
    "# Checando o tipo da variável\n",
    "print(type(booleano))"
   ]
  },
  {
   "cell_type": "code",
   "execution_count": 86,
   "id": "d2a28d30",
   "metadata": {},
   "outputs": [
    {
     "name": "stdout",
     "output_type": "stream",
     "text": [
      "O valor de booleano é: False\n"
     ]
    }
   ],
   "source": [
    "# Exibindo o valor de 'booleano'\n",
    "print(f\"O valor de booleano é: {booleano}\")"
   ]
  },
  {
   "cell_type": "markdown",
   "id": "831e9f6b",
   "metadata": {},
   "source": [
    "# Exercícios\n",
    "Chegou a hora de colocar seus conhecimentos em prática!\n",
    "\n",
    "## Exercício 004\n",
    "Faça um programa que realize a soma e subtração de duas variáveis, sendo uma do tipo inteiro e outra do tipo decimal, exibindo o valor da soma e da subtração no seguinte formato: \"O valor da soma é: \\<soma\\>\" & \"O valor da subtração é: \\<subtracao\\>\""
   ]
  },
  {
   "cell_type": "code",
   "execution_count": null,
   "id": "39996aff",
   "metadata": {},
   "outputs": [],
   "source": []
  },
  {
   "cell_type": "markdown",
   "id": "8e8639b6",
   "metadata": {},
   "source": [
    "## Exercício 005\n",
    "Faça um programa que receba a idade do usuário e retorne a idade dele somada em 10 anos no seguinte formato: Sua idade daqui a 10 anos será: \\<idade + 10 anos\\>"
   ]
  },
  {
   "cell_type": "code",
   "execution_count": null,
   "id": "1316d895",
   "metadata": {},
   "outputs": [],
   "source": []
  },
  {
   "cell_type": "markdown",
   "id": "87e69582",
   "metadata": {},
   "source": [
    "## Exercício 006\n",
    "Faça um programa que leia algo digitado pelo usuário, mostre seu tipo e tudo a respeito dele (dica: utiliza as funções **is**)"
   ]
  },
  {
   "cell_type": "code",
   "execution_count": null,
   "id": "7a69c27e",
   "metadata": {},
   "outputs": [],
   "source": []
  },
  {
   "cell_type": "markdown",
   "id": "853a7291",
   "metadata": {},
   "source": [
    "## Exercício 007\n",
    "Faça um programa receba algo digitado pelo usuário e verifique se ele digitou alguma coisa, retornando **True** caso tenha e **False** caso não tenha."
   ]
  },
  {
   "cell_type": "code",
   "execution_count": null,
   "id": "5ae9a7d2",
   "metadata": {},
   "outputs": [],
   "source": []
  },
  {
   "cell_type": "markdown",
   "id": "9500f464",
   "metadata": {},
   "source": [
    "## Exercício 008\n",
    "Faça um programa que receba os seguintes dados de um funcionário: nome, idade e salario. Na empresa que esse funcionário trabalha, seu salário é aumentado de ano em ano em R$ 800,90.\n",
    "\n",
    "Sabendo disso, imprima o nome, idade e salário do funcionário daqui a 1 ano no seguinte formato: \"O funcionário \\<nome\\>, daqui a 1 ano, terá \\<idade\\> anos, recebendo um salário igual a R$\\<salario\\>. "
   ]
  },
  {
   "cell_type": "code",
   "execution_count": null,
   "id": "c25a1725",
   "metadata": {},
   "outputs": [],
   "source": []
  }
 ],
 "metadata": {
  "kernelspec": {
   "display_name": "Python 3 (ipykernel)",
   "language": "python",
   "name": "python3"
  },
  "language_info": {
   "codemirror_mode": {
    "name": "ipython",
    "version": 3
   },
   "file_extension": ".py",
   "mimetype": "text/x-python",
   "name": "python",
   "nbconvert_exporter": "python",
   "pygments_lexer": "ipython3",
   "version": "3.9.12"
  }
 },
 "nbformat": 4,
 "nbformat_minor": 5
}
