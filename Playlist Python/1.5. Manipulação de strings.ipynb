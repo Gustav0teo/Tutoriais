{
 "cells": [
  {
   "cell_type": "markdown",
   "id": "f3f1d1e0",
   "metadata": {},
   "source": [
    "<img src=\"https://resilienteducator.com/wp-content/uploads/2015/09/Revising-With-Pictures-How-Word-Clouds-Help-Students-Become-Better-Writers.jpg\" width = 600>\n",
    "\n",
    "# 1. Introdução\n",
    "\n",
    "## O que é manipulação de strings?\n",
    "Como vimos em aulas anteriores, strings são sequências de caracteres delimitadas por aspas simples ('') ou duplas (\"\"). Elas são muito utilizadas para armazenar e manipular textos em Python. Hoje, vamos falar um pouco sobre como fazer operações e transformações com strings. Na aula passada, vimos os operadores aritméticos, utilizados para realizarmos operaçoes e transformações com variáveis numéricas. Hoje, veremos operações e transformações para variáveis do tipo string.\n",
    "\n",
    "<hr>\n",
    "\n",
    "# 2. Fatiamento de strings\n",
    "\n",
    "O fatiamento de string é uma operação que permite extrair partes específicas de uma string com base em índices. No Python, os índices começam em 0 para o primeiro caractere e aumentam de 1 em 1 a cada caractere à direita. Além disso, eles podem ser negativos para contar a partir do final da string. A sintaxe do fatiamento é a seguinte: utilizamos o colchetes após a variável que amazena o valor da string seguido de dois pontos (variavel[**a**:**b**]), onde **a** representa o índice de início e o **b** representa o índice de parada (não incluso). Observe o exemplo abaixo:"
   ]
  },
  {
   "cell_type": "code",
   "execution_count": 2,
   "id": "f650c549",
   "metadata": {},
   "outputs": [
    {
     "name": "stdout",
     "output_type": "stream",
     "text": [
      "Nome: Anwar\n"
     ]
    }
   ],
   "source": [
    "# Atribuindo o valor \"Me chamo Anwar\" à variável frase\n",
    "frase = \"Me chamo Anwar\"\n",
    "\n",
    "# Obtendo um trecho específico da string (meu nome)\n",
    "nome = frase[9:14]\n",
    "\n",
    "# Exibindo meu nome\n",
    "print(f\"Nome: {nome}\")"
   ]
  },
  {
   "cell_type": "markdown",
   "id": "6b3617c3",
   "metadata": {},
   "source": [
    "Como vimos, retornamos o nome Anwar como resultado. Porém, vamos explorar um pouco mais sobre o fatiamento. Agora, vamos ver como fatias frases desde o ínicio até algum índice específico ou fatiar de um índice específico até o final. Vamos repetir o exemplo:"
   ]
  },
  {
   "cell_type": "code",
   "execution_count": 3,
   "id": "84e7293b",
   "metadata": {},
   "outputs": [
    {
     "name": "stdout",
     "output_type": "stream",
     "text": [
      "Nome: Anwar\n",
      "Início: Me chamo\n"
     ]
    }
   ],
   "source": [
    "# Atribuindo o valor \"Me chamo Anwar\" à variável frase\n",
    "frase = \"Me chamo Anwar\"\n",
    "\n",
    "# Obtendo um trecho específico da string (meu nome)\n",
    "nome = frase[9:]\n",
    "\n",
    "# Exibindo meu nome\n",
    "print(f\"Nome: {nome}\")\n",
    "\n",
    "# Obtendo o início da frase ('Me chamo')\n",
    "inicio = frase[:8]\n",
    "\n",
    "# Exibindo início da frase\n",
    "print(f\"Início: {inicio}\")"
   ]
  },
  {
   "cell_type": "markdown",
   "id": "2426d45a",
   "metadata": {},
   "source": [
    "Para finalizar, vamos falar sobre índices negativos! Vamos repetir o exemplo, extraindo meu nome utilizando índices negativos"
   ]
  },
  {
   "cell_type": "code",
   "execution_count": 5,
   "id": "014e8dc3",
   "metadata": {},
   "outputs": [
    {
     "name": "stdout",
     "output_type": "stream",
     "text": [
      "Nome: war\n"
     ]
    }
   ],
   "source": [
    "# Atribuindo o valor \"Me chamo Anwar\" à variável frase\n",
    "frase = \"Me chamo Anwar\"\n",
    "\n",
    "# Obtendo um trecho específico da string (meu nome)\n",
    "nome = frase[-3:]\n",
    "\n",
    "# Exibindo meu nome\n",
    "print(f\"Nome: {nome}\")"
   ]
  },
  {
   "cell_type": "markdown",
   "id": "ad2d0b70",
   "metadata": {},
   "source": [
    "<hr>\n",
    "\n",
    "# 3. Análise de strings\n",
    "Agora, vamos falar como extrair informações relevantes e profundas do seu texto para realizar diversas análises.\n",
    "\n",
    "## 3.1. Funão len()\n",
    "A função **len()** retorna o tamanho de uma string, contando o número de caracteres que ela possui. Observe o exemplo abaixo:"
   ]
  },
  {
   "cell_type": "code",
   "execution_count": 6,
   "id": "39cc0a6e",
   "metadata": {},
   "outputs": [
    {
     "name": "stdout",
     "output_type": "stream",
     "text": [
      "Número de caracteres: 15\n"
     ]
    }
   ],
   "source": [
    "# Atribuindo o valor \"O Último Código\" à variável canal\n",
    "canal = \"O Último Código\"\n",
    "\n",
    "# Armazenando o número de caracteres em uma variável chamada num_caracteres\n",
    "num_caracteres = len(canal)\n",
    "\n",
    "# Exibindo o número de caracteres do nome do canal\n",
    "print(f\"Número de caracteres: {num_caracteres}\")"
   ]
  },
  {
   "cell_type": "markdown",
   "id": "17ce9230",
   "metadata": {},
   "source": [
    "Um caso especial é quando a string está vazia. Ou seja, não há nada que o usuário digitou. Observe o código abaixo:"
   ]
  },
  {
   "cell_type": "code",
   "execution_count": 7,
   "id": "6e46848b",
   "metadata": {},
   "outputs": [
    {
     "name": "stdout",
     "output_type": "stream",
     "text": [
      "Número de caracteres: 0\n"
     ]
    }
   ],
   "source": [
    "# Atribuindo o valor \"\" à variável x\n",
    "x = \"\"\n",
    "\n",
    "# Armazenando o número de caracteres em uma variável chamada num_caracteres\n",
    "num_caracteres = len(x)\n",
    "\n",
    "# Exibindo o número de caracteres do nome do canal\n",
    "print(f\"Número de caracteres: {num_caracteres}\")"
   ]
  },
  {
   "cell_type": "markdown",
   "id": "8b928a2c",
   "metadata": {},
   "source": [
    "## 3.2. Método count()\n",
    "O método **count()** conta o número de ocorrências de uma substring dentro de uma string. Para entender melhor, observe o código abaixo:"
   ]
  },
  {
   "cell_type": "code",
   "execution_count": 11,
   "id": "b9d50079",
   "metadata": {},
   "outputs": [
    {
     "name": "stdout",
     "output_type": "stream",
     "text": [
      "Número de vezes: 3\n"
     ]
    }
   ],
   "source": [
    "# Atribuindo o valor \"Banana\" à variável frase\n",
    "frase = \"Banana\"\n",
    "\n",
    "# Contando o número de vezes em que a substring 'a' aparece\n",
    "num = frase.count('a')\n",
    "\n",
    "# Exibindo o número de vezes em que a substring aparece\n",
    "print(f\"Número de vezes: {num}\")"
   ]
  },
  {
   "cell_type": "markdown",
   "id": "ed5c6b15",
   "metadata": {},
   "source": [
    "## 3.3. Método find()\n",
    "O método **find()** retorna o índice da primeira ocorrência de uma substring dentro de uma string. Se a substring não for encontrada, retorna **-1**. Observe o exemplo abaixo:"
   ]
  },
  {
   "cell_type": "code",
   "execution_count": 17,
   "id": "0bff1258",
   "metadata": {},
   "outputs": [
    {
     "name": "stdout",
     "output_type": "stream",
     "text": [
      "Índice: 1\n"
     ]
    }
   ],
   "source": [
    "# Atribuindo o valor \"Banana\" à variável frase\n",
    "frase = \"Banana\"\n",
    "\n",
    "# Encontrando o índice da primeira ocorrência de 'a' na frase\n",
    "indice = frase.find('a')\n",
    "\n",
    "# Exibindo o índice da primeira ocorrência de 'a'\n",
    "print(f\"Índice: {indice}\")"
   ]
  },
  {
   "cell_type": "markdown",
   "id": "d0de83bc",
   "metadata": {},
   "source": [
    "<hr>\n",
    "\n",
    "# 4. Transformação de strings\n",
    "Agora, vamos falar alguns métodos que nos fazem transformar strings. No capítulo anterior, analisamos métodos e funções que permitem a análise da string. Neste momento, iremos transformar a string; alterar seu valor.\n",
    "\n",
    "## 4.1. Método replace()\n",
    "O método **replace()** substitui todas as ocorrências de uma substring por outra substring. Observe o exemplo abaixo:"
   ]
  },
  {
   "cell_type": "code",
   "execution_count": 22,
   "id": "896d6ef2",
   "metadata": {
    "scrolled": true
   },
   "outputs": [
    {
     "name": "stdout",
     "output_type": "stream",
     "text": [
      "Nova frase: Estou aprendendo Java\n"
     ]
    }
   ],
   "source": [
    "# Atribuindo o valor \"Estou aprendendo Python\" à variável frase\n",
    "frase = \"Estou aprendendo Python\"\n",
    "\n",
    "# Substituindo 'Python' por 'Java'\n",
    "nova_frase = frase.replace(\"Python\", \"Java\")\n",
    "\n",
    "# Exibindo o valor da nova frase\n",
    "print(f\"Nova frase: {nova_frase}\")"
   ]
  },
  {
   "cell_type": "markdown",
   "id": "7839ecb0",
   "metadata": {},
   "source": [
    "## 4.2. Método upper()\n",
    "O método **upper()** converte todos os caracteres de uma string para maiúsculas. Observe o exemplo abaixo:"
   ]
  },
  {
   "cell_type": "code",
   "execution_count": 23,
   "id": "40add3b1",
   "metadata": {},
   "outputs": [
    {
     "name": "stdout",
     "output_type": "stream",
     "text": [
      "Maiúsculas: ESTA É UMA FRASE NORMAL\n"
     ]
    }
   ],
   "source": [
    "# Atribuindo o valor \"Esta é uma frase normal\" à variável frase\n",
    "frase = \"Esta é uma frase normal\"\n",
    "\n",
    "# Deixando todas as letras maiúsculas\n",
    "maiu = frase.upper()\n",
    "\n",
    "# Exibindo o valor da frase em maiúsculas\n",
    "print(f\"Maiúsculas: {maiu}\")"
   ]
  },
  {
   "cell_type": "markdown",
   "id": "82e4c741",
   "metadata": {},
   "source": [
    "## 4.3. Método lower()\n",
    "O método **lower()**, ao contrário do método upper, converte todos os caracteres de uma string para minúsculas. Observe o exemplo abaixo:"
   ]
  },
  {
   "cell_type": "code",
   "execution_count": 24,
   "id": "41d227e2",
   "metadata": {},
   "outputs": [
    {
     "name": "stdout",
     "output_type": "stream",
     "text": [
      "Minúsculas: esta é uma frase em maiúsculas\n"
     ]
    }
   ],
   "source": [
    "# Atribuindo o valor \"ESTA É UMA FRASE EM MAIÚSCULAS\" à variável frase\n",
    "frase = \"ESTA É UMA FRASE EM MAIÚSCULAS\"\n",
    "\n",
    "# Deixando todas as letras minúsculas\n",
    "minu = frase.lower()\n",
    "\n",
    "# Exibindo o valor da frase em minúsculas\n",
    "print(f\"Minúsculas: {minu}\")"
   ]
  },
  {
   "cell_type": "markdown",
   "id": "f0d86360",
   "metadata": {},
   "source": [
    "## 4.4. Método capitalize()\n",
    "O método **capitalize()** converte o primeiro caractere de uma string para maiúscula. Observe o exemplo abaixo:"
   ]
  },
  {
   "cell_type": "code",
   "execution_count": 25,
   "id": "f328f296",
   "metadata": {},
   "outputs": [
    {
     "name": "stdout",
     "output_type": "stream",
     "text": [
      "Nova frase: Olá, mundo!\n"
     ]
    }
   ],
   "source": [
    "# Atribuindo o valor \"olá, mundo!\" à variável frase\n",
    "frase = \"olá, mundo!\"\n",
    "\n",
    "# Tornando o primeiro caractere maiúsculo\n",
    "nova_frase = frase.capitalize()\n",
    "\n",
    "# Exibindo o valor da frase com o primeiro caractere maiúsculo\n",
    "print(f\"Nova frase: {nova_frase}\")"
   ]
  },
  {
   "cell_type": "markdown",
   "id": "944f21f9",
   "metadata": {},
   "source": [
    "## 4.5. Método title()\n",
    "O método **title()** converte o primeiro caractere de cada palavra em maiúscula. Observe o exemplo abaixo:"
   ]
  },
  {
   "cell_type": "code",
   "execution_count": 26,
   "id": "7c11ab0e",
   "metadata": {},
   "outputs": [
    {
     "name": "stdout",
     "output_type": "stream",
     "text": [
      "Nova frase: Ola, Me Chamo Anwar\n"
     ]
    }
   ],
   "source": [
    "# Atribuindo o valor \"ola, me chamo anwar\" à variável frase\n",
    "frase = \"ola, me chamo anwar\"\n",
    "\n",
    "# Deixando o primeiro caractere de cada palavra em maiúsculas\n",
    "titulo = frase.title()\n",
    "\n",
    "# Exibindo o valor da nova frase\n",
    "print(f\"Nova frase: {titulo}\")"
   ]
  },
  {
   "cell_type": "markdown",
   "id": "7fea230d",
   "metadata": {},
   "source": [
    "## 4.6. Método strip()\n",
    "O método **strip()** remove os espaços em branco do início e fim de uma string. Observe o exemplo abaixo:"
   ]
  },
  {
   "cell_type": "code",
   "execution_count": 33,
   "id": "bd25d30a",
   "metadata": {},
   "outputs": [
    {
     "name": "stdout",
     "output_type": "stream",
     "text": [
      "Nova frase: anwar\n"
     ]
    }
   ],
   "source": [
    "# Atribuindo o valor \"   anwar  \" à variável frase\n",
    "frase = \"   anwar  \"\n",
    "\n",
    "# Removendo os espaços em branco no início e fim da frase\n",
    "nova_frase = frase.strip()\n",
    "\n",
    "# Exibindo o valor da nova frase\n",
    "print(f\"Nova frase: {nova_frase}\")"
   ]
  },
  {
   "cell_type": "markdown",
   "id": "8191c5d8",
   "metadata": {},
   "source": [
    "O método strip possui duas variações: **lstrip()** e **rstrip()**. O método **lstrip()** remove os espaços em branco apenas do início da frase (left strip). Já o **rstrip()**, remove apenas os espaços em branco do final (right strip)."
   ]
  },
  {
   "cell_type": "markdown",
   "id": "573c7580",
   "metadata": {},
   "source": [
    "<hr>\n",
    "\n",
    "# 5. Separação e junção de strings\n",
    "Vamos para um tópico muito interessantea agora: separar e juntar strings. Quando formos falar sobre separação de strings, inevitavelmente iremos falar sobre listas, um assunto que não vimos ainda, mas é super intuitivo. Depois, iremos falar sobre como juntar essas strings anteriormente separadas. \n",
    "\n",
    "## 5.1. Método split()\n",
    "O método **split()** permite dividir uma string em uma lista de substrings com base em um separador especificado. É útil quando você deseja separar uma string em palavras individuais ou segmentos específicos. Observe o exemplo abaixo:"
   ]
  },
  {
   "cell_type": "code",
   "execution_count": 34,
   "id": "9275abfc",
   "metadata": {},
   "outputs": [
    {
     "name": "stdout",
     "output_type": "stream",
     "text": [
      "Palavras: ['Estou', 'aprendendo', 'Python', 'agora']\n"
     ]
    }
   ],
   "source": [
    "# Atribuindo o valor \"Estou aprendendo Python agora\" à variável frase\n",
    "frase = \"Estou aprendendo Python agora\"\n",
    "\n",
    "# Separando as palavras pelo delimitador \" \"\n",
    "palavras = frase.split(sep = \" \")\n",
    "\n",
    "# Exibindo o da lista com as palavras\n",
    "print(f\"Palavras: {palavras}\")"
   ]
  },
  {
   "cell_type": "markdown",
   "id": "54a0f31f",
   "metadata": {},
   "source": [
    "## 5.2. Método join()\n",
    "O método **join()** une uma lista de strings em uma única string, utilizando um separador especificado. Observe o exemplo abaixo:"
   ]
  },
  {
   "cell_type": "code",
   "execution_count": 39,
   "id": "5ad109ae",
   "metadata": {},
   "outputs": [
    {
     "name": "stdout",
     "output_type": "stream",
     "text": [
      "Nova string: Estou-aprendendo-Python-agora\n"
     ]
    }
   ],
   "source": [
    "# Vamos reutilizar a lista que acabamos de criar acima como exemplo\n",
    "delimitador = \"-\"\n",
    "\n",
    "# Juntando as palavras com o delimitador \":\"\n",
    "nova_string = delimitador.join(palavras)\n",
    "\n",
    "# Exibindo o resultado\n",
    "print(f\"Nova string: {nova_string}\")"
   ]
  },
  {
   "cell_type": "markdown",
   "id": "84993884",
   "metadata": {},
   "source": [
    "# Exercícios\n",
    "Chegou a hora de colocar seus conhecimentos em prática!\n",
    "\n",
    "## Exercício 019\n",
    "Faça um programa que receba uma frase do usuário e retorne: (i) a quantidade de caracteres da frase (ii) a quantidade de letras 'e' na frase (iii) o índice da primeira substring 'ou' (iv) a frase toda maiúscula (v) a frase toda minúscula."
   ]
  },
  {
   "cell_type": "code",
   "execution_count": null,
   "id": "62853ffb",
   "metadata": {},
   "outputs": [],
   "source": []
  },
  {
   "cell_type": "markdown",
   "id": "f12b89f7",
   "metadata": {},
   "source": [
    "## Exercício 020\n",
    "Faça um programa que peça ao usuário a cidade que ele mora e retorne True caso o nome da cidade inicie com \"Rio\" e False caso não. "
   ]
  },
  {
   "cell_type": "code",
   "execution_count": null,
   "id": "2a011f75",
   "metadata": {},
   "outputs": [],
   "source": []
  },
  {
   "cell_type": "markdown",
   "id": "7dab74b9",
   "metadata": {},
   "source": [
    "## Exercício 021\n",
    "Faça um programa que peça ao usuário para digitar seu nome e retorne True caso o nome contenha \"oliveira\" e False caso contrário."
   ]
  },
  {
   "cell_type": "code",
   "execution_count": null,
   "id": "e8a942c2",
   "metadata": {},
   "outputs": [],
   "source": []
  },
  {
   "cell_type": "markdown",
   "id": "11837c84",
   "metadata": {},
   "source": [
    "## Exercício 022\n",
    "Faça um programa que peça ao usuário para digitar uma frase e retorne a frase ao contrário. Exemplo: ele digita \"ola, mundo\" e o programa retorna \"odnum ,alo\"."
   ]
  },
  {
   "cell_type": "code",
   "execution_count": null,
   "id": "60462866",
   "metadata": {},
   "outputs": [],
   "source": []
  },
  {
   "cell_type": "markdown",
   "id": "21be9ab9",
   "metadata": {},
   "source": [
    "## Exercício 023\n",
    "Faça um um programa que receba uma frase como entrada e conte quantas vezes uma determinada palavra aparece na frase."
   ]
  },
  {
   "cell_type": "code",
   "execution_count": null,
   "id": "cb87d4f6",
   "metadata": {},
   "outputs": [],
   "source": []
  },
  {
   "cell_type": "markdown",
   "id": "90484e3f",
   "metadata": {},
   "source": [
    "## Exercício 024\n",
    "Faça um um programa que receba o nome completo de uma pessoa e retorne o primeiro e o último nome dela."
   ]
  },
  {
   "cell_type": "code",
   "execution_count": null,
   "id": "2ac018c2",
   "metadata": {},
   "outputs": [],
   "source": []
  }
 ],
 "metadata": {
  "kernelspec": {
   "display_name": "Python 3 (ipykernel)",
   "language": "python",
   "name": "python3"
  },
  "language_info": {
   "codemirror_mode": {
    "name": "ipython",
    "version": 3
   },
   "file_extension": ".py",
   "mimetype": "text/x-python",
   "name": "python",
   "nbconvert_exporter": "python",
   "pygments_lexer": "ipython3",
   "version": "3.9.12"
  }
 },
 "nbformat": 4,
 "nbformat_minor": 5
}
