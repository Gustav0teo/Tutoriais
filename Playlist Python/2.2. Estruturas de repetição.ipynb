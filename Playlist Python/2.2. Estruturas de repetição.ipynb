{
 "cells": [
  {
   "cell_type": "markdown",
   "id": "f3f1d1e0",
   "metadata": {},
   "source": [
    "<img src=\"https://tiagoborges.net/wp-content/uploads/2021/12/loops-nos-efeitos.png\" width = 600>\n",
    "\n",
    "# 1. Introdução\n",
    "\n",
    "## O que são estruturas de repetição?\n",
    "Neste tópico, vamos discutir a importância das estruturas de repetição na programação e como elas nos permitem executar um bloco de código várias vezes, com base em uma condição ou um número pré-determinado de iterações.\n",
    "\n",
    "As estruturas de repetição são fundamentais para automatizar tarefas repetitivas, como processar grandes conjuntos de dados ou executar determinadas ações um número específico de vezes. Elas nos ajudam a evitar a repetição manual de código e tornam nossos programas mais eficientes e flexíveis.\n",
    "\n",
    "Existem duas estruturas de repetição principais em Python: o loop **for** e o loop **while**. Cada uma dessas estruturas tem sua própria forma de utilização e é adequada para diferentes situações.\n",
    "\n",
    "<hr>\n",
    "\n",
    "# 2.  Loops \"for\"\n",
    "No segundo tópico, vamos aprofundar nosso conhecimento sobre o loop **for** em Python. Esse tipo de loop nos permite iterar sobre uma sequência de itens, como uma lista, uma string ou até mesmo os elementos retornados por uma função.\n",
    "\n",
    "O loop **for** é especialmente útil quando sabemos antecipadamente a quantidade de vezes que queremos executar um bloco de código. Ele percorre cada item da sequência e executa o bloco de código correspondente a cada iteração.\n",
    "\n",
    "Dentro do loop **for**, podemos acessar o valor atual da sequência utilizando uma variável temporária, que é atualizada a cada iteração. Podemos usar essa variável para realizar operações, tomar decisões ou realizar qualquer ação desejada dentro do bloco de código.\n",
    "\n",
    "Vamos fazer exemplos iterando valores em listas, strings e com um determinado número de vezes utilizando a função range(). Observe o primeiro exemplo abaixo:"
   ]
  },
  {
   "cell_type": "code",
   "execution_count": 11,
   "id": "f650c549",
   "metadata": {},
   "outputs": [
    {
     "name": "stdout",
     "output_type": "stream",
     "text": [
      "Olá, Anwar\n",
      "Olá, João\n",
      "Olá, Pedro\n"
     ]
    }
   ],
   "source": [
    "# Criando uma lista chamada 'nomes' com os nomes \"Anwar\", \"João\" e \"Pedro\"\n",
    "nomes = [\"Anwar\", \"João\", \"Pedro\"]\n",
    "\n",
    "# Exbindo uma saudação para cada nome: 'Olá, {nome}'\n",
    "for nome in nomes:\n",
    "    print(f\"Olá, {nome}\")"
   ]
  },
  {
   "cell_type": "markdown",
   "id": "6b3617c3",
   "metadata": {},
   "source": [
    "Como puderam ver, acessamos cada um dos elementos da nossa lista utilizando o **for** e imprimimos 'Olá, {nome}', onde {nome} é cada um dos elementos da lista 'nomes'.\n",
    "\n",
    "Agora, vamos utilizar o loop **for** em uma string!"
   ]
  },
  {
   "cell_type": "code",
   "execution_count": 14,
   "id": "610c2308",
   "metadata": {},
   "outputs": [
    {
     "name": "stdout",
     "output_type": "stream",
     "text": [
      "O\n",
      " \n",
      "Ú\n",
      "l\n",
      "t\n",
      "i\n",
      "m\n",
      "o\n",
      " \n",
      "C\n",
      "ó\n",
      "d\n",
      "i\n",
      "g\n",
      "o\n"
     ]
    }
   ],
   "source": [
    "# Atribuindo o valor \"O Último Código\" à variável 'canal'\n",
    "canal = \"O Último Código\"\n",
    "\n",
    "# Exibindo cada um dos caracteres da string\n",
    "for caractere in canal:\n",
    "    print(caractere)"
   ]
  },
  {
   "cell_type": "markdown",
   "id": "2426d45a",
   "metadata": {},
   "source": [
    "Como podem ver, nosso código imprimiu cada uma das letras do nome do canal. Note que podemos enxergar uma string como sendo uma lista de caracteres.\n",
    "\n",
    "Visto isso, vamos falar agora sobre a utilização do loop **for** com a função **range()**.\n",
    "\n",
    "## Função range\n",
    "Agora, vamos explorar de forma mais detalhada a função **range()** em Python, que é muito usada com o loop **for** para repetir um bloco de código um determinado número de vezes.\n",
    "\n",
    "A função **range()** é usada para gerar uma sequência de números. Ela pode receber até três argumentos: o valor de início da sequência, o valor de parada (não o inclui) e o passo (intervalo entre os números). Se o valor de início não for especificado, o padrão é 0, e se o passo não for fornecido, o padrão é 1.\n",
    "\n",
    "Com base nesses argumentos, a função **range()** cria uma sequência que pode ser iterada pelo loop **for**. Podemos utilizar essa sequência para executar um bloco de código repetidamente, variando os valores de acordo com a sequência gerada pela função **range()**. Observe um exemplo da utilização da função range junto com o loop **for**:"
   ]
  },
  {
   "cell_type": "code",
   "execution_count": 17,
   "id": "014e8dc3",
   "metadata": {},
   "outputs": [
    {
     "name": "stdout",
     "output_type": "stream",
     "text": [
      "1\n",
      "2\n",
      "3\n",
      "4\n",
      "5\n",
      "6\n",
      "7\n",
      "8\n",
      "9\n",
      "10\n"
     ]
    }
   ],
   "source": [
    "# Exibindo números de 1 a 10\n",
    "for numero in range(1, 11, 1):\n",
    "    print(numero)"
   ]
  },
  {
   "cell_type": "markdown",
   "id": "ae8b12c5",
   "metadata": {},
   "source": [
    "Agora, vamos fazer uma variação do exercício anterior. Observe o código abaixo:"
   ]
  },
  {
   "cell_type": "code",
   "execution_count": 22,
   "id": "2f51a096",
   "metadata": {},
   "outputs": [
    {
     "name": "stdout",
     "output_type": "stream",
     "text": [
      "2\n",
      "4\n",
      "6\n",
      "8\n",
      "10\n"
     ]
    }
   ],
   "source": [
    "# Exibindo números PARES de 1 a 10\n",
    "for par in range(2, 11, 2):\n",
    "    print(par)"
   ]
  },
  {
   "cell_type": "markdown",
   "id": "01991ba6",
   "metadata": {},
   "source": [
    "Para finalizar, vamos utilizar um passo negativo! Observe o exemplo abaixo:"
   ]
  },
  {
   "cell_type": "code",
   "execution_count": 27,
   "id": "7f867135",
   "metadata": {},
   "outputs": [
    {
     "name": "stdout",
     "output_type": "stream",
     "text": [
      "99\n",
      "96\n",
      "93\n",
      "90\n",
      "87\n",
      "84\n",
      "81\n",
      "78\n",
      "75\n",
      "72\n",
      "69\n",
      "66\n",
      "63\n",
      "60\n",
      "57\n",
      "54\n",
      "51\n",
      "48\n",
      "45\n",
      "42\n",
      "39\n",
      "36\n",
      "33\n",
      "30\n",
      "27\n",
      "24\n",
      "21\n",
      "18\n",
      "15\n",
      "12\n",
      "9\n",
      "6\n",
      "3\n",
      "0\n"
     ]
    }
   ],
   "source": [
    "# Exibindo os números entre 0 e 100 divisíveis por 3, do maior para o menor\n",
    "for di3 in range(99, -1, -3):\n",
    "    print(di3)"
   ]
  },
  {
   "cell_type": "markdown",
   "id": "ad2d0b70",
   "metadata": {},
   "source": [
    "<hr>\n",
    "\n",
    "# 3. Loops \"while\"\n",
    "No terceiro tópico, vamos explorar o loop **while** em Python. Ao contrário do loop **for**, o loop **while** repete um bloco de código enquanto uma condição específica for verdadeira.\n",
    "\n",
    "O loop **while** é útil quando não sabemos antecipadamente quantas vezes precisaremos repetir um bloco de código, mas temos uma condição que determina quando devemos parar. Ele verifica a condição no início de cada iteração. Se a condição for verdadeira, o bloco de código é executado; caso contrário, o loop é encerrado.\n",
    "\n",
    "É importante ter cuidado ao usar o loop **while** para evitar **loops infinitos**, garantindo que a condição se torne falsa em algum momento durante a execução. Podemos atualizar variáveis, solicitar entradas do usuário ou realizar qualquer outra ação para controlar a condição dentro do bloco de código. Observe o exemplo abaixo:"
   ]
  },
  {
   "cell_type": "code",
   "execution_count": 28,
   "id": "9bf39682",
   "metadata": {},
   "outputs": [
    {
     "name": "stdout",
     "output_type": "stream",
     "text": [
      "Contador: 0\n",
      "Contador: 1\n",
      "Contador: 2\n",
      "Contador: 3\n",
      "Contador: 4\n",
      "Contador: 5\n"
     ]
    }
   ],
   "source": [
    "# Atribuindo o valor 0 à variável 'contador'\n",
    "contador = 0\n",
    "\n",
    "# Exibindo 'Contador: {contador}' de 0 a 5\n",
    "while contador <= 5:\n",
    "    print(f\"Contador: {contador}\")\n",
    "    contador += 1"
   ]
  },
  {
   "cell_type": "markdown",
   "id": "604ca7cd",
   "metadata": {},
   "source": [
    "<hr>\n",
    "\n",
    "# 4. Uso do break\n",
    "No quarto tópico, vamos discutir o uso da instrução **break** dentro de um loop. Essa instrução nos permite interromper a execução do loop antes que todas as iterações sejam concluídas.\n",
    "\n",
    "Ao encontrar a instrução **break** dentro de um loop - seja o **for** ou o **while** -, o programa imediatamente sai do loop e continua com a próxima instrução após o loop. Isso pode ser útil quando queremos parar a repetição com base em uma condição específica, mesmo que o número de iterações definido inicialmente não tenha sido concluído.\n",
    "\n",
    "O **break** é geralmente usado em conjunto com uma estrutura condicional dentro do loop. Quando a condição é atendida, a instrução **break** é acionada, interrompendo o loop e saindo dele prematuramente. Observe o exemplo abaixo"
   ]
  },
  {
   "cell_type": "code",
   "execution_count": 30,
   "id": "e55c2318",
   "metadata": {},
   "outputs": [
    {
     "name": "stdout",
     "output_type": "stream",
     "text": [
      "1\n",
      "2\n",
      "3\n",
      "4\n",
      "5\n",
      "6\n",
      "7\n"
     ]
    }
   ],
   "source": [
    "# Adicionando os valores de 1 a 10 em uma lista chamada 'numeros'\n",
    "numeros = [1, 2, 3, 4, 5, 6, 7, 8, 9, 10]\n",
    "indice = 0\n",
    "\n",
    "# Exibindo os valores. Quando chegar no valor 7, exiba-o e interrompa o código\n",
    "while True:\n",
    "    print(numeros[indice])\n",
    "    if numeros[indice] == 7:\n",
    "        break\n",
    "    indice += 1"
   ]
  },
  {
   "cell_type": "markdown",
   "id": "d52fee7b",
   "metadata": {},
   "source": [
    "Agora, vamos utilizar o break em um loop **while**. Observe o código abaixo:"
   ]
  },
  {
   "cell_type": "code",
   "execution_count": 31,
   "id": "37266cff",
   "metadata": {},
   "outputs": [
    {
     "name": "stdout",
     "output_type": "stream",
     "text": [
      "Digite um valor: 10\n",
      "10\n",
      "Digite um valor: 20\n",
      "20\n",
      "Digite um valor: 50\n",
      "50\n",
      "Digite um valor: -1\n"
     ]
    }
   ],
   "source": [
    "# Recebendo entrada inteira do usuário\n",
    "inteiro = int(input(\"Digite um valor: \"))\n",
    "\n",
    "# Peça o usuário para digitar um valor. Se o valor for diferente de -1, imprima-o na tela. Caso contrário, encerre o programa\n",
    "while inteiro != -1:\n",
    "    print(inteiro)\n",
    "    inteiro = int(input(\"Digite um valor: \"))"
   ]
  },
  {
   "cell_type": "markdown",
   "id": "920cd2b2",
   "metadata": {},
   "source": [
    "<hr>\n",
    "\n",
    "# 5. Uso do continue\n",
    "No quinto - e último - tópico, vamos discutir o uso da instrução **continue** dentro de loops. Essa instrução fornece mais controle sobre o fluxo de execução do código dentro de um loop.\n",
    "\n",
    "A instrução **continue** é usada para pular o restante do bloco de código dentro de uma iteração e passar para a próxima iteração do loop. Isso significa que, quando o programa encontra a instrução **continue**, ele interrompe a execução do código atual dentro do loop e passa para a próxima iteração, ignorando qualquer código que esteja abaixo da instrução **continue** dentro do bloco de código. Observe o exemplo abaixo:"
   ]
  },
  {
   "cell_type": "code",
   "execution_count": 32,
   "id": "6e46848b",
   "metadata": {},
   "outputs": [
    {
     "name": "stdout",
     "output_type": "stream",
     "text": [
      "0\n",
      "1\n",
      "2\n",
      "4\n",
      "5\n",
      "6\n",
      "7\n",
      "8\n",
      "9\n",
      "10\n"
     ]
    }
   ],
   "source": [
    "# Exibindo os valores de 0 a 10, exceto o valor 3\n",
    "for numero in range(0, 11, 1):\n",
    "    if numero == 3:\n",
    "        continue\n",
    "    else:\n",
    "        print(numero)"
   ]
  },
  {
   "cell_type": "markdown",
   "id": "84993884",
   "metadata": {},
   "source": [
    "# Exercícios\n",
    "Chegou a hora de colocar seus conhecimentos em prática!\n",
    "\n",
    "## Exercício 034\n",
    "Faça um programa que solicite ao usuário digitar um número e imprima a tabuada desse número."
   ]
  },
  {
   "cell_type": "code",
   "execution_count": null,
   "id": "4dbf66aa",
   "metadata": {},
   "outputs": [],
   "source": []
  },
  {
   "cell_type": "markdown",
   "id": "931fed46",
   "metadata": {},
   "source": [
    "## Exercício 035\n",
    "Faça um programa que calcule a soma dos números de 1 a 100 utilizando um loop \"while\"."
   ]
  },
  {
   "cell_type": "code",
   "execution_count": null,
   "id": "0aaa4d60",
   "metadata": {},
   "outputs": [],
   "source": []
  },
  {
   "cell_type": "markdown",
   "id": "f12b89f7",
   "metadata": {},
   "source": [
    "## Exercício 036\n",
    "Faça um programa que solicite ao usuário digitar uma frase e conte quantas vogais existem na frase utilizando um loop \"for\"."
   ]
  },
  {
   "cell_type": "code",
   "execution_count": null,
   "id": "ff45005b",
   "metadata": {},
   "outputs": [],
   "source": []
  },
  {
   "cell_type": "markdown",
   "id": "7dab74b9",
   "metadata": {},
   "source": [
    "## Exercício 037\n",
    "Faça um programa que imprima a seguinte sequência: 1, 2, 4, 8, 16, 32, 64, ... até o décimo termo utilizando um loop \"while\"."
   ]
  },
  {
   "cell_type": "code",
   "execution_count": null,
   "id": "b574e015",
   "metadata": {},
   "outputs": [],
   "source": []
  },
  {
   "cell_type": "markdown",
   "id": "11837c84",
   "metadata": {},
   "source": [
    "## Exercício 038\n",
    "Faça um programa que imprima os números de 1 a 100, mas substitua os múltiplos de 3 pela palavra \"Fizz\", os múltiplos de 5 pela palavra \"Buzz\" e os múltiplos de 3 e 5 pela palavra \"Fizz Buzz\"."
   ]
  },
  {
   "cell_type": "code",
   "execution_count": null,
   "id": "6b4ba810",
   "metadata": {},
   "outputs": [],
   "source": []
  },
  {
   "cell_type": "markdown",
   "id": "21be9ab9",
   "metadata": {},
   "source": [
    "## Exercício 039\n",
    "Faça um programa que solicite ao usuário digitar uma lista de números e encontre o maior número da lista."
   ]
  },
  {
   "cell_type": "code",
   "execution_count": null,
   "id": "24a854e7",
   "metadata": {},
   "outputs": [],
   "source": []
  },
  {
   "cell_type": "markdown",
   "id": "90484e3f",
   "metadata": {},
   "source": [
    "## Exercício 040\n",
    "Faça um programa que solicite ao usuário digitar uma palavra e verifique se a palavra é um palíndromo utilizando um loop \"for\"."
   ]
  },
  {
   "cell_type": "code",
   "execution_count": null,
   "id": "ee7fb494",
   "metadata": {},
   "outputs": [],
   "source": []
  },
  {
   "cell_type": "markdown",
   "id": "62bee647",
   "metadata": {},
   "source": [
    "## Exercício 041\n",
    "Faça um programa que solicite ao usuário digitar um número e, em seguida, calcule e imprima o fatorial desse número."
   ]
  },
  {
   "cell_type": "code",
   "execution_count": null,
   "id": "252b170d",
   "metadata": {},
   "outputs": [],
   "source": []
  },
  {
   "cell_type": "markdown",
   "id": "dcd22bc5",
   "metadata": {},
   "source": [
    "## Exercício 042\n",
    "Faça um programa que solicite ao usuário digitar um número e, em seguida, imprima a sequência de Fibonacci até esse número."
   ]
  },
  {
   "cell_type": "code",
   "execution_count": null,
   "id": "33d4459f",
   "metadata": {},
   "outputs": [],
   "source": []
  }
 ],
 "metadata": {
  "kernelspec": {
   "display_name": "Python 3 (ipykernel)",
   "language": "python",
   "name": "python3"
  },
  "language_info": {
   "codemirror_mode": {
    "name": "ipython",
    "version": 3
   },
   "file_extension": ".py",
   "mimetype": "text/x-python",
   "name": "python",
   "nbconvert_exporter": "python",
   "pygments_lexer": "ipython3",
   "version": "3.9.12"
  }
 },
 "nbformat": 4,
 "nbformat_minor": 5
}
