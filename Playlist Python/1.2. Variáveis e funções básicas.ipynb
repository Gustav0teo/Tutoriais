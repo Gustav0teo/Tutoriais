{
 "cells": [
  {
   "cell_type": "markdown",
   "id": "f3f1d1e0",
   "metadata": {},
   "source": [
    "<img src=\"https://rare-gallery.com/uploads/posts/4535591-simple-background-quote-minimalism-text-world-hello-world-8-bit-pixelated-typography-digital-art.jpg\" width = 600>\n",
    "\n",
    "# 1. Introdução\n",
    "\n",
    "## O que são variáveis e por que elas são importantes na programação?\n",
    "Variáveis, no contexto da programação e da linguagem Python, são espaços na memória do computador que amazenam valores que podem ser alterados durante a execução do programa. Elas são importantes porque permitem que os programas amazenem dados e realizem operações com esses dados. No códido abaixo, estou atribuindo à variável chamada **nome** o valor **\"Anwar\"**."
   ]
  },
  {
   "cell_type": "code",
   "execution_count": 1,
   "id": "f650c549",
   "metadata": {},
   "outputs": [],
   "source": [
    "# Criando uma variável chamada \"nome\" que amazena o valor \"Anwar\"\n",
    "nome = \"Anwar\""
   ]
  },
  {
   "cell_type": "markdown",
   "id": "ad2d0b70",
   "metadata": {},
   "source": [
    "## O que são funções e qual a importância delas no Python?\n",
    "Falando sobre funções, elas são blocos de código que realizam uma determinada tarefa e podem ser chamadas várias vezes ao longo do programa. Elas são importantes no Python porque permitem que o código seja organizado e reutilizável. Abaixo, está um exemplo de função que recebe dois números inteiros e nos retorna o resultado da multiplicação deles:"
   ]
  },
  {
   "cell_type": "code",
   "execution_count": 2,
   "id": "39cc0a6e",
   "metadata": {},
   "outputs": [],
   "source": [
    "# Criando a função que recebe dois inteiros e multiplica-os\n",
    "def multiplica(n1: int, n2: int) -> int:\n",
    "    return n1*n2"
   ]
  },
  {
   "cell_type": "markdown",
   "id": "8b928a2c",
   "metadata": {},
   "source": [
    "Detalhe: você não precisa entender como funciona a função acima, sua sintaxe e como criar funções, por enquanto. Mais para frente no curso, iremos abordar isso.\n",
    "\n",
    "<hr>\n",
    "\n",
    "# 2. Variáveis\n",
    "Vamos falar um pouco mais detalhadamente sobre as variáveis.\n",
    "\n",
    "## Regras de nomenclatura\n",
    "Como podem imaginar, não podemos nomear as variáveis da forma com que queremos. Na verdade, há um conjunto de regras que devem ser obedecidas para a nomenclatura de variáveis. As regras são as seguintes:\n",
    "- O nome da variável deve começar com uma letra ou o caractere de sublinhado (_)\n",
    "- O nome da variável **não** pode começar com um número\n",
    "- O nome da variável pode conter apenas caracteres alfanuméricos e sublinhados (A-z, 0-9 e _ )\n",
    "- Os nomes das variáveis diferenciam maiúsculas de minúsculas (nome, Nome e NOME são três variáveis diferentes)\n",
    "- O nome da variável **não** pode conter espaços\n",
    "- O nome da variável deve ser significativo e descritivo\n",
    "\n",
    "Observe o código abaixo com exemplos corretos e incorretos de nomenclatura:"
   ]
  },
  {
   "cell_type": "code",
   "execution_count": 10,
   "id": "b9d50079",
   "metadata": {},
   "outputs": [
    {
     "ename": "SyntaxError",
     "evalue": "invalid syntax (2763782601.py, line 10)",
     "output_type": "error",
     "traceback": [
      "\u001b[1;36m  Cell \u001b[1;32mIn[10], line 10\u001b[1;36m\u001b[0m\n\u001b[1;33m    1número = 5\u001b[0m\n\u001b[1;37m     ^\u001b[0m\n\u001b[1;31mSyntaxError\u001b[0m\u001b[1;31m:\u001b[0m invalid syntax\n"
     ]
    }
   ],
   "source": [
    "# Exemplos corretos\n",
    "nome = \"Anwar\"\n",
    "nome_e_sobrenome = \"Anwar Hermuche\"\n",
    "_frase = \"Estou aprendendo Python\"\n",
    "clichê = \"Romeu e Julieta\"\n",
    "\n",
    "# Exemplos incorretos\n",
    "nome e sobrenome = \"Anwar Hermuche\"\n",
    "nome-e-sobrenome = \"Anwar Hermuche\"\n",
    "1número = 5"
   ]
  },
  {
   "cell_type": "markdown",
   "id": "ed5c6b15",
   "metadata": {},
   "source": [
    "Note que há um erro de sintaxe no código, o que era esperado.\n",
    "\n",
    "## Atribuição de valores às variáveis\n",
    "Para atribuir um valor a uma variável, basta usar o operador de atribuição **=**. Lembre-se de que quando você ler este símbolo em um código, ele deve ser lido como **'recebe'** e não como **'igual'**. Observe o exemplo abaixo:"
   ]
  },
  {
   "cell_type": "code",
   "execution_count": 11,
   "id": "0bff1258",
   "metadata": {},
   "outputs": [],
   "source": [
    "# Atribuindo o valor 3 à variável \"numero\"\n",
    "numero = 3"
   ]
  },
  {
   "cell_type": "markdown",
   "id": "d0de83bc",
   "metadata": {},
   "source": [
    "Perceba que lemos o código acima da seguinte forma: \"número **recebe** 3\", e não \"número igual a 3\". Na próxima aula, vamos falar de forma detalhada sobre os tipos que as variáveis podem assumir no Python."
   ]
  },
  {
   "cell_type": "markdown",
   "id": "8056059e",
   "metadata": {},
   "source": [
    "<hr>\n",
    "\n",
    "# 3. Funções básicas\n",
    "Agora, vamos falar sobre duas funções básicas do Python que iremos utilizar na maioria dos exercícios daqui para frente: **print()** e **input()**.\n",
    "\n",
    "## Função print()\n",
    "Se traduzirmos a palavra print, ela significa \"imprimir\", o que é basicamente a utilizade dela. A função **print()** é usada para exibir valores na tela. A sintaxe é `print(valor)`. Observe os exemplos abaixo:"
   ]
  },
  {
   "cell_type": "code",
   "execution_count": 12,
   "id": "381ea286",
   "metadata": {},
   "outputs": [
    {
     "name": "stdout",
     "output_type": "stream",
     "text": [
      "Olá, Mundo!\n"
     ]
    }
   ],
   "source": [
    "# Exibindo a frase \"Olá, Mundo!\"\n",
    "print(\"Olá, Mundo!\")"
   ]
  },
  {
   "cell_type": "code",
   "execution_count": 13,
   "id": "bd25d30a",
   "metadata": {},
   "outputs": [
    {
     "name": "stdout",
     "output_type": "stream",
     "text": [
      "3\n"
     ]
    }
   ],
   "source": [
    "# Atribuindo o valor 3 à variável x\n",
    "x = 3\n",
    "\n",
    "# Exibindo esse valor na tela\n",
    "print(x)"
   ]
  },
  {
   "cell_type": "code",
   "execution_count": 14,
   "id": "2f490bf9",
   "metadata": {},
   "outputs": [
    {
     "name": "stdout",
     "output_type": "stream",
     "text": [
      "Meu nome é Maria\n"
     ]
    }
   ],
   "source": [
    "# Atribuindo o valor \"Maria\" à variável nome\n",
    "nome = \"Maria\"\n",
    "\n",
    "# Mesclando valores e variáveis no print (com ,)\n",
    "print(\"Meu nome é\", nome)"
   ]
  },
  {
   "cell_type": "markdown",
   "id": "3779ce9a",
   "metadata": {},
   "source": [
    "## Função input()\n",
    "Se traduzirmos novamente o nome da função **input()** para português, significa \"entrada\", que, novamente, explica bastante a sua utilidade. Afunção **input()** é usada para obter entradas do usuário. A sintaxe é `input(\"Mensagem\")`. Observe os exemplos abaixo:"
   ]
  },
  {
   "cell_type": "code",
   "execution_count": 16,
   "id": "d8868c8c",
   "metadata": {},
   "outputs": [
    {
     "name": "stdout",
     "output_type": "stream",
     "text": [
      "Qual é o seu nome? Maria\n",
      "Qual é a sua idade? 86\n",
      "Seu nome é Maria e você tem 86 anos.\n"
     ]
    }
   ],
   "source": [
    "# Recebendo um valor do usuário e atribuindo à variável nome\n",
    "nome = input(\"Qual é o seu nome? \")\n",
    "\n",
    "# Recebendo um valor do usuário e atribuindo à variável idade\n",
    "idade = input(\"Qual é a sua idade? \")\n",
    "\n",
    "# Exibindo o nome e a idade do usuário\n",
    "print(\"Seu nome é\", nome, \"e você tem\", idade, \"anos.\")"
   ]
  },
  {
   "cell_type": "markdown",
   "id": "e70db706",
   "metadata": {},
   "source": [
    "Um detalhe importante: a função input retorna uma string! Mais para frente, vamos falar mais sobre isso.\n",
    "\n",
    "## F-strings\n",
    "Agora, vamos falar sobre um tópico que irá ajudar muito quando você estiver trabalhando com strings e variáveis. As f-strings são uma forma de formatar strings em Python. Para utilizá-las, basta colocar um **f** antes das aspas da string e utilizar chaves **{}** para inserir variáveis dentro da string. Vou refazer o exemplo do nome e idade acima utilizando f-strings:"
   ]
  },
  {
   "cell_type": "code",
   "execution_count": 17,
   "id": "72ff44f1",
   "metadata": {},
   "outputs": [
    {
     "name": "stdout",
     "output_type": "stream",
     "text": [
      "Qual é o seu nome? Anwar\n",
      "Qual é a sua idade? 20\n",
      "Seu nome é Anwar e você tem 20 anos.\n"
     ]
    }
   ],
   "source": [
    "# Recebendo um valor do usuário e atribuindo à variável nome\n",
    "nome = input(\"Qual é o seu nome? \")\n",
    "\n",
    "# Recebendo um valor do usuário e atribuindo à variável idade\n",
    "idade = input(\"Qual é a sua idade? \")\n",
    "\n",
    "# Exibindo o nome e a idade do usuário\n",
    "print(f\"Seu nome é {nome} e você tem {idade} anos.\")"
   ]
  },
  {
   "cell_type": "markdown",
   "id": "84993884",
   "metadata": {},
   "source": [
    "# Exercícios\n",
    "Chegou a hora de colocar seus conhecimentos em prática!\n",
    "\n",
    "## Exercício 001\n",
    "Faça um programa que imprima \"Estou aprendendo Python!\" na tela"
   ]
  },
  {
   "cell_type": "code",
   "execution_count": null,
   "id": "cb145478",
   "metadata": {},
   "outputs": [],
   "source": []
  },
  {
   "cell_type": "markdown",
   "id": "2426a700",
   "metadata": {},
   "source": [
    "## Exercício 002\n",
    "Faça um programa que peça ao usuário para digitar um número e, em seguida, imprima na tela a mensagem \"O número digitado foi \\<numero\\>\""
   ]
  },
  {
   "cell_type": "code",
   "execution_count": null,
   "id": "1c04ace1",
   "metadata": {},
   "outputs": [],
   "source": []
  },
  {
   "cell_type": "markdown",
   "id": "f12b89f7",
   "metadata": {},
   "source": [
    "## Exercício 003\n",
    "Faça um programa que peça ao usuário para digitar seu nome e, em seguida, imprima na tela a mensagem \"Olá, \\<nome\\>!\" "
   ]
  },
  {
   "cell_type": "code",
   "execution_count": null,
   "id": "8fdadbc7",
   "metadata": {},
   "outputs": [],
   "source": []
  }
 ],
 "metadata": {
  "kernelspec": {
   "display_name": "Python 3 (ipykernel)",
   "language": "python",
   "name": "python3"
  },
  "language_info": {
   "codemirror_mode": {
    "name": "ipython",
    "version": 3
   },
   "file_extension": ".py",
   "mimetype": "text/x-python",
   "name": "python",
   "nbconvert_exporter": "python",
   "pygments_lexer": "ipython3",
   "version": "3.9.12"
  }
 },
 "nbformat": 4,
 "nbformat_minor": 5
}
