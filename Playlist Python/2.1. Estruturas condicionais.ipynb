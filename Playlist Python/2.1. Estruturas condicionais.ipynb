{
 "cells": [
  {
   "cell_type": "markdown",
   "id": "f3f1d1e0",
   "metadata": {},
   "source": [
    "<img src=\"https://images.saymedia-content.com/.image/t_share/MTc0NjQ1NzUzNzIwNDgxMTQ2/the-crossroads-a-liminal-setting-for-occult-and-supernatural-activities.jpg\" width = 600>\n",
    "\n",
    "# 1. Introdução\n",
    "\n",
    "## O que são estruturas condicionais?\n",
    "Neste tópico, vamos discutir a importância da estrutura condicional em programação e como ela nos permite tomar decisões com base em condições específicas.\n",
    "\n",
    "Vocês já devem ter passado por situações em que precisaram tomar decisões diferentes com base em certas circunstâncias, certo? Por exemplo, quando acordam de manhã, vocês precisam decidir se vão tomar café da manhã em casa ou se vão comer algo na rua. Essa é uma tomada de decisão baseada em uma condição: se vocês têm tempo suficiente, tomam café em casa; caso contrário, comem na rua.\n",
    "\n",
    "Da mesma forma, em programação, podemos usar a estrutura condicional para executar diferentes blocos de código dependendo de uma condição específica. Isso nos dá a capacidade de criar programas que se adaptam e tomam decisões com base em dados e entradas fornecidas.\n",
    "\n",
    "<hr>\n",
    "\n",
    "# 2. Operadores de comparação e lógicos\n",
    "\n",
    "Antes de explorarmos a estrutura condicional, é importante entender os operadores de comparação e lógicos. Esses operadores são usados para comparar valores e combinar múltiplas condições.\n",
    "\n",
    "Os operadores de comparação nos permitem comparar dois valores e retornar um resultado booleano (True ou False). Aqui estão alguns exemplos de operadores de comparação:\n",
    "\n",
    "- **==** (igual a): verifica se dois valores são iguais.\n",
    "- **!=** (diferente de): verifica se dois valores são diferentes.\n",
    "- **<** (menor que): verifica se um valor é menor que outro.\n",
    "- **>** (maior que): verifica se um valor é maior que outro.\n",
    "- **<=** (menor ou igual a): verifica se um valor é menor ou igual a outro.\n",
    "- **>=** (maior ou igual a): verifica se um valor é maior ou igual a outro.\n",
    "\n",
    "Podemos usar esses operadores de comparação para criar condições e testar se uma determinada condição é verdadeira ou falsa. No entanto, até o momento, não estamos usando a estrutura condicional. Observe o exemplo abaixo:"
   ]
  },
  {
   "cell_type": "code",
   "execution_count": 6,
   "id": "f650c549",
   "metadata": {},
   "outputs": [
    {
     "name": "stdout",
     "output_type": "stream",
     "text": [
      "Resultado: False\n"
     ]
    }
   ],
   "source": [
    "# Atribuindo o valor 4 à variável numero\n",
    "numero = 4\n",
    "\n",
    "# Fazendo exemplos com cada um dos operadores de comparação\n",
    "resultado = numero >= 8\n",
    "\n",
    "# Exibindo resultado\n",
    "print(f\"Resultado: {resultado}\")"
   ]
  },
  {
   "cell_type": "markdown",
   "id": "6b3617c3",
   "metadata": {},
   "source": [
    "Agora, vamos explorar os operadores lógicos, que nos permitem combinar múltiplas condições para criar expressões condicionais mais complexas.\n",
    "\n",
    "O operador **and** retorna verdadeiro apenas se **todas** as condições forem verdadeiras. Por exemplo:"
   ]
  },
  {
   "cell_type": "code",
   "execution_count": 8,
   "id": "610c2308",
   "metadata": {},
   "outputs": [
    {
     "name": "stdout",
     "output_type": "stream",
     "text": [
      "True\n"
     ]
    }
   ],
   "source": [
    "# Atribuindo o valor 18 à variável idade\n",
    "idade = 18\n",
    "\n",
    "# Atribuindo o valor False à variável tem_carteira\n",
    "tem_carteira = True\n",
    "\n",
    "# Verificando se a pessoa tem idade maior ou igual a 18 anos e tem carteira\n",
    "print(idade >= 18 and tem_carteira)"
   ]
  },
  {
   "cell_type": "markdown",
   "id": "2426d45a",
   "metadata": {},
   "source": [
    "Agora, falando do operador **or**, ele retorna verdadeiro se **pelo menos uma** das condições for verdadeira. Por exemplo:"
   ]
  },
  {
   "cell_type": "code",
   "execution_count": 10,
   "id": "014e8dc3",
   "metadata": {},
   "outputs": [
    {
     "name": "stdout",
     "output_type": "stream",
     "text": [
      "True\n"
     ]
    }
   ],
   "source": [
    "# Atribuindo o valor 16 à variável idade\n",
    "idade = 16\n",
    "\n",
    "# Atribuindo o valor False à variável tem_carteira\n",
    "tem_carteira = True\n",
    "\n",
    "# Verificando se a pessoa tem idade maior ou igual a 18 anos ou tem carteira\n",
    "print(idade >= 18 or tem_carteira)"
   ]
  },
  {
   "cell_type": "markdown",
   "id": "ae8b12c5",
   "metadata": {},
   "source": [
    "Por fim, falando do último operador lógico, o **not**, ele retorna o valor oposto da expressão que temos. Ou seja, se uma expressão lógica retorna True naturalmente, caso tenhamos o **not** antes da expressão ela retornará False e vice-versa. Observe o exemplo abaixo:"
   ]
  },
  {
   "cell_type": "code",
   "execution_count": 13,
   "id": "2f51a096",
   "metadata": {},
   "outputs": [
    {
     "name": "stdout",
     "output_type": "stream",
     "text": [
      "False\n"
     ]
    }
   ],
   "source": [
    "# Atribuindo o valor 16 à variável idade\n",
    "idade = 16\n",
    "\n",
    "# Atribuindo o valor True à variável tem_carteira\n",
    "tem_carteira = True\n",
    "\n",
    "# Verificando se a pessoa tem idade maior ou igual a 18 anos e não tem carteira\n",
    "print(idade >= 18 and not tem_carteira)"
   ]
  },
  {
   "cell_type": "markdown",
   "id": "ad2d0b70",
   "metadata": {},
   "source": [
    "Esses operadores lógicos são úteis quando precisamos testar várias condições ao mesmo tempo. Eles nos permitem criar expressões condicionais mais flexíveis e abrangentes.\n",
    "\n",
    "Agora que entendemos os operadores de comparação e lógicos, podemos avançar para a estrutura condicional e aprender como usá-los para tomar decisões em nossos programas.\n",
    "\n",
    "<hr>\n",
    "\n",
    "# 3. Sintaxe básica da estrutura condicional\n",
    "Aqui, vamos explorar a sintaxe básica da estrutura condicional em Python usando os comandos \"if\", \"else\" e \"elif\".\n",
    "\n",
    "A sintaxe básica de uma estrutura condicional é a seguinte:\n",
    "\n",
    "`se condicao:\n",
    "    codigo_1\n",
    "senao:\n",
    "    codigo_2`\n",
    "    \n",
    "Na linguagem Python, representamos o se como **if** e o senão como **else**. Observe o exemplo abaixo: "
   ]
  },
  {
   "cell_type": "code",
   "execution_count": null,
   "id": "9bf39682",
   "metadata": {},
   "outputs": [],
   "source": [
    "# Fazendo condição\n",
    "if condição:\n",
    "    # Código a ser executado se a condição for verdadeira\n",
    "else:\n",
    "    # Código a ser executado se a condição for falsa"
   ]
  },
  {
   "cell_type": "markdown",
   "id": "1f66dca8",
   "metadata": {},
   "source": [
    "A palavra-chave **if** é usada para iniciar a estrutura condicional e definir a primeira condição a ser testada. O bloco de código que vem após o **if** é executado apenas se a condição for verdadeira.\n",
    "\n",
    "Em seguida, temos a palavra-chave **else**, que é opcional. Se a condição do **if** for falsa, o bloco de código que vem após o **else** será executado.\n",
    "\n",
    "Observe o exemplo abaixo:"
   ]
  },
  {
   "cell_type": "code",
   "execution_count": 15,
   "id": "7f17c51b",
   "metadata": {},
   "outputs": [
    {
     "name": "stdout",
     "output_type": "stream",
     "text": [
      "Menor de idade\n"
     ]
    }
   ],
   "source": [
    "# Atribuindo o valor 18 à variável idade\n",
    "idade = 5\n",
    "\n",
    "# Exiba se a pessoa é maior de idade ou não\n",
    "if idade >= 18:\n",
    "    print(\"Maior de idade\")\n",
    "else:\n",
    "    print(\"Menor de idade\")"
   ]
  },
  {
   "cell_type": "markdown",
   "id": "604ca7cd",
   "metadata": {},
   "source": [
    "Neste exemplo, a variável \"idade\" é testada para determinar se é maior ou igual a 18. Se for verdadeiro, o programa imprime \"Você é maior de idade!\". Caso contrário, imprime \"Você é menor de idade!\".\n",
    "\n",
    "<hr>\n",
    "\n",
    "# 4. Condições simples com \"if\" e \"else\"\n",
    "Neste tópico, vamos nos concentrar em criar estruturas condicionais simples usando apenas o \"if\" e o \"else\".\n",
    "\n",
    "Em muitas situações, podemos ter apenas duas possibilidades, ou seja, uma condição verdadeira e outra falsa. Nesses casos, a estrutura condicional simples com \"if\" e \"else\" é suficiente.\n",
    "\n",
    "Observe o exemplo abaixo:"
   ]
  },
  {
   "cell_type": "code",
   "execution_count": 17,
   "id": "e55c2318",
   "metadata": {},
   "outputs": [
    {
     "name": "stdout",
     "output_type": "stream",
     "text": [
      "O número é ímpar!\n"
     ]
    }
   ],
   "source": [
    "# Atribuindo o valor 10 à variável numero\n",
    "numero = 17\n",
    "\n",
    "# Verificando se o número é par ou ímpar\n",
    "if numero%2 == 0:\n",
    "    print(\"O número é par!\")\n",
    "else:\n",
    "    print(\"O número é ímpar!\")"
   ]
  },
  {
   "cell_type": "markdown",
   "id": "920cd2b2",
   "metadata": {},
   "source": [
    "Neste exemplo, estamos testando se o \"numero\" é divisível por 2, verificando se o resto da divisão é igual a 0. Se for, imprime \"O número é par!\". Caso contrário, imprime \"O número é ímpar!\".\n",
    "\n",
    "<hr>\n",
    "\n",
    "# 5. Condições múltiplas com \"if\", \"elif\" e \"else\"\n",
    "Agora, vamos explorar a possibilidade de ter várias condições a serem testadas usando o **elif** (abreviação de **else if**) em conjunto com o \"if\" e o \"else\". Se traduzíssemos para o português, seria um \"senão se\".\n",
    "\n",
    "Ele é funciona basicamente da seguinte forma: a primeira condição foi satisfeita? Não? Então tenta essa (a do elif). Não foi satisfeita de novo? Então tenta mais essa aqui (mais um elif). Nenhuma deu certo? Então executa o else.\n",
    "\n",
    "Como disse, às vezes, precisamos testar diferentes condições sequencialmente até encontrar uma que seja verdadeira. É nessa situação que o \"elif\" é útil.\n",
    "\n",
    "Observe o exemplo abaixo:"
   ]
  },
  {
   "cell_type": "code",
   "execution_count": 20,
   "id": "6e46848b",
   "metadata": {},
   "outputs": [
    {
     "name": "stdout",
     "output_type": "stream",
     "text": [
      "F\n"
     ]
    }
   ],
   "source": [
    "# Atribuindo o valor 76 à variável nota\n",
    "nota = 60\n",
    "\n",
    "# Exiba a nota do aluno (A para 90+, B para 80+, C para 70+ e F caso seja menor)\n",
    "if nota >= 90:\n",
    "    print(\"A\")\n",
    "elif nota >= 80:\n",
    "    print(\"B\")\n",
    "elif nota >= 70:\n",
    "    print(\"C\")\n",
    "else:\n",
    "    print(\"F\")"
   ]
  },
  {
   "cell_type": "markdown",
   "id": "76ef861c",
   "metadata": {},
   "source": [
    "Neste exemplo, estamos testando a variável \"nota\" para determinar em qual faixa de pontuação ela se encontra. O programa irá verificar cada condição sequencialmente até encontrar a primeira que seja verdadeira. \n",
    "\n",
    "Assim que encontrar, o bloco de código correspondente será executado. Se nenhuma das condições anteriores for verdadeira, o bloco de código do \"else\" será executado."
   ]
  },
  {
   "cell_type": "markdown",
   "id": "84993884",
   "metadata": {},
   "source": [
    "# Exercícios\n",
    "Chegou a hora de colocar seus conhecimentos em prática!\n",
    "\n",
    "## Exercício 025\n",
    "Faça um programa que verifique se um número digitado pelo usuário é positivo, negativo ou zero."
   ]
  },
  {
   "cell_type": "code",
   "execution_count": null,
   "id": "27bdcdf8",
   "metadata": {},
   "outputs": [],
   "source": []
  },
  {
   "cell_type": "markdown",
   "id": "931fed46",
   "metadata": {},
   "source": [
    "## Exercício 26\n",
    "Faça um programa que verifique se um número é divisível por 3 e por 5 ao mesmo tempo."
   ]
  },
  {
   "cell_type": "code",
   "execution_count": null,
   "id": "fdba49a6",
   "metadata": {},
   "outputs": [],
   "source": []
  },
  {
   "cell_type": "markdown",
   "id": "f12b89f7",
   "metadata": {},
   "source": [
    "## Exercício 027\n",
    "Faça um programa que calcule a média de três notas e exiba a situação do aluno (aprovado - maior ou igual a 70 -, em recuperação - entre 60 e 70 - ou reprovado - menor que 60)."
   ]
  },
  {
   "cell_type": "code",
   "execution_count": null,
   "id": "71a173c9",
   "metadata": {},
   "outputs": [],
   "source": []
  },
  {
   "cell_type": "markdown",
   "id": "7dab74b9",
   "metadata": {},
   "source": [
    "## Exercício 028\n",
    "Faça um programa que verifique se um ano é bissexto ou não."
   ]
  },
  {
   "cell_type": "code",
   "execution_count": null,
   "id": "a3a5d0c4",
   "metadata": {},
   "outputs": [],
   "source": []
  },
  {
   "cell_type": "markdown",
   "id": "11837c84",
   "metadata": {},
   "source": [
    "## Exercício 029\n",
    "Faça um programa que calcule o IMC (Índice de Massa Corporal) e exiba a categoria correspondente (abaixo do peso, peso normal, sobrepeso, obesidade grau I, obesidade grau II ou obesidade grau III).\n",
    "\n",
    "<img src=\"https://endocrinologiacuritiba.com.br/wp-content/uploads/2012/02/tabela_imc.jpg\" class=\"center\">"
   ]
  },
  {
   "cell_type": "code",
   "execution_count": null,
   "id": "d1063aa1",
   "metadata": {},
   "outputs": [],
   "source": []
  },
  {
   "cell_type": "markdown",
   "id": "21be9ab9",
   "metadata": {},
   "source": [
    "## Exercício 30\n",
    "Faça um programa que verifique se uma palavra digitada pelo usuário é um palíndromo (se pode ser lida da mesma forma de trás para frente). \n",
    "\n",
    "Imprima \"É um palíndromo!\" caso seja e \"Não é um palíndromo!\" caso não seja."
   ]
  },
  {
   "cell_type": "code",
   "execution_count": null,
   "id": "110f1f88",
   "metadata": {},
   "outputs": [],
   "source": []
  },
  {
   "cell_type": "markdown",
   "id": "90484e3f",
   "metadata": {},
   "source": [
    "## Exercício 031\n",
    "Faça um programa que receba o salário de um funcionário e calcule o valor do seu aumento de acordo com as seguintes condições: salários até R\\\\$ 1.000, aumento de 20\\%; salários entre R\\\\$ 1.000 e R\\\\$ 3.000, aumento de 15\\%; salários acima de R\\\\$ 3.000, aumento de 10%."
   ]
  },
  {
   "cell_type": "code",
   "execution_count": null,
   "id": "15d69d59",
   "metadata": {},
   "outputs": [],
   "source": []
  },
  {
   "cell_type": "markdown",
   "id": "62bee647",
   "metadata": {},
   "source": [
    "## Exercício 032\n",
    "Faça um programa que verifique se um número é divisível por outro número fornecido pelo usuário. \n",
    "\n",
    "Imprima \"É divisível\" caso seja e \"Não é divisível\" caso contrário."
   ]
  },
  {
   "cell_type": "code",
   "execution_count": null,
   "id": "b8cee74b",
   "metadata": {},
   "outputs": [],
   "source": []
  },
  {
   "cell_type": "markdown",
   "id": "dcd22bc5",
   "metadata": {},
   "source": [
    "## Exercício 033\n",
    "Faça um programa que receba a temperatura em graus Celsius e converta para Fahrenheit ou vice-versa, de acordo com a escolha do usuário."
   ]
  },
  {
   "cell_type": "code",
   "execution_count": null,
   "id": "8d1c761e",
   "metadata": {},
   "outputs": [],
   "source": []
  }
 ],
 "metadata": {
  "kernelspec": {
   "display_name": "Python 3 (ipykernel)",
   "language": "python",
   "name": "python3"
  },
  "language_info": {
   "codemirror_mode": {
    "name": "ipython",
    "version": 3
   },
   "file_extension": ".py",
   "mimetype": "text/x-python",
   "name": "python",
   "nbconvert_exporter": "python",
   "pygments_lexer": "ipython3",
   "version": "3.9.12"
  }
 },
 "nbformat": 4,
 "nbformat_minor": 5
}
