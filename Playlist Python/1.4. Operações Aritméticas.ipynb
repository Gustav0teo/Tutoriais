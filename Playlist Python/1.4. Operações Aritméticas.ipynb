{
 "cells": [
  {
   "cell_type": "markdown",
   "id": "f3f1d1e0",
   "metadata": {},
   "source": [
    "<img src=\"https://i.ibb.co/fxNxyFR/pexels-deepak-gautam-240163.jpg\" width = 600>\n",
    "\n",
    "# 1. Introdução\n",
    "\n",
    "## O que são operações aritméticas?\n",
    "Operações aritméticas são operações matemáticas que envolvem números e símbolos matemáticos, como adição, subtração, múltiplicação e algumas outras. Na programação, as operações aritméticas são muito importantes, pois permitem que os programas realizem cálculos matemáticos de forma rápida e eficiente.\n",
    "\n",
    "<hr>\n",
    "\n",
    "# 2. Operadores aritméticos\n",
    "\n",
    "## Adição (+)\n",
    "Vamos começar com o operador mais simples, o de adição! Ele é representado pelo sinal de mais (+) e é utilizado para somar dois valores. Observe o exemplo abaixo:"
   ]
  },
  {
   "cell_type": "code",
   "execution_count": 14,
   "id": "f650c549",
   "metadata": {},
   "outputs": [
    {
     "name": "stdout",
     "output_type": "stream",
     "text": [
      "A soma de x e y é: 10\n"
     ]
    }
   ],
   "source": [
    "# Atribuindo o valor 3 à variável x\n",
    "x = 3\n",
    "\n",
    "# Atribuindo o valor 7 à variável y\n",
    "y = 7\n",
    "\n",
    "# Exibindo o valor da soma de x e y\n",
    "print(f\"A soma de x e y é: {x + y}\")"
   ]
  },
  {
   "cell_type": "markdown",
   "id": "ad2d0b70",
   "metadata": {},
   "source": [
    "## Subtração (-)\n",
    "Agora, vamos falar sobre o operador de subtração. Ele é representado pelo sinal de menos (-) e é utilizado para subtrair um valor de outro. Observe o exemplo abaixo:"
   ]
  },
  {
   "cell_type": "code",
   "execution_count": 17,
   "id": "39cc0a6e",
   "metadata": {},
   "outputs": [
    {
     "name": "stdout",
     "output_type": "stream",
     "text": [
      "Subtração de x por y: 1.4500000000000002\n"
     ]
    }
   ],
   "source": [
    "# Atribuindo o valor 2.7 à variável x\n",
    "x = 2.7\n",
    "\n",
    "# Atribuindo o valor 1.25 à variável y\n",
    "y = 1.25\n",
    "\n",
    "# Exibindo o valor da subtração de x por y\n",
    "print(f\"Subtração de x por y: {x - y}\")"
   ]
  },
  {
   "cell_type": "markdown",
   "id": "8b928a2c",
   "metadata": {},
   "source": [
    "## Multiplicação (\\*)\n",
    "Falando agora sobre o operador de multiplicação, ele é representado pelo sinal de asterisco (\\*) e é utilizado para multiplicar dois valores. Observe o exemplo abaixo:"
   ]
  },
  {
   "cell_type": "code",
   "execution_count": 18,
   "id": "b9d50079",
   "metadata": {},
   "outputs": [
    {
     "name": "stdout",
     "output_type": "stream",
     "text": [
      "A multiplicação de x por y é: 14.0\n"
     ]
    }
   ],
   "source": [
    "# Atribuindo o valor 0.5 à variável x\n",
    "x = 0.5\n",
    "\n",
    "# Atribuindo o valor 28 à variável y\n",
    "y = 28\n",
    "\n",
    "# Exibindo o valor da multiplicação de x e y\n",
    "print(f\"A multiplicação de x por y é: {x*y}\")"
   ]
  },
  {
   "cell_type": "markdown",
   "id": "ed5c6b15",
   "metadata": {},
   "source": [
    "## Divisão (/)\n",
    "O operador de divisão é representado pelo sinal de barra (/) e é utilizado para dividir um valor pelo outro. Observe o exemplo abaixo:"
   ]
  },
  {
   "cell_type": "code",
   "execution_count": 19,
   "id": "0bff1258",
   "metadata": {},
   "outputs": [
    {
     "name": "stdout",
     "output_type": "stream",
     "text": [
      "A divisão de x por y é: 10.0\n"
     ]
    }
   ],
   "source": [
    "# Atribuindo o valor 70 à variável x\n",
    "x = 70\n",
    "\n",
    "# Atribuindo o valor 7 à variável y\n",
    "y = 7\n",
    "\n",
    "# Exibindo o valor da divisão de x por y\n",
    "print(f\"A divisão de x por y é: {x/y}\")"
   ]
  },
  {
   "cell_type": "markdown",
   "id": "d0de83bc",
   "metadata": {},
   "source": [
    "## Potência (\\*\\*)\n",
    "O operador de potência, ao contrário do que muitos pensam, não é representado pelo acento circunflexo (\"chapeuzinho\": ^), mas sim por dois sinais de asterisco (\\*\\*) e é utilizado para elevar um valor a uma determinada potência. Observe o exemplo abaixo:"
   ]
  },
  {
   "cell_type": "code",
   "execution_count": 23,
   "id": "896d6ef2",
   "metadata": {
    "scrolled": true
   },
   "outputs": [
    {
     "name": "stdout",
     "output_type": "stream",
     "text": [
      "O valor de x elevado a y é: 25\n"
     ]
    }
   ],
   "source": [
    "# Atribuindo o valor 5 à variável x\n",
    "x = 5\n",
    "\n",
    "# Atribuindo o valor 2 à variável y\n",
    "y = 2\n",
    "\n",
    "# Exibindo o valor de x elevado a y\n",
    "print(f\"O valor de x elevado a y é: {x**y}\")"
   ]
  },
  {
   "cell_type": "markdown",
   "id": "7839ecb0",
   "metadata": {},
   "source": [
    "## Divisão inteira (//)\n",
    "Quando falamos de divisão inteira, falamos sobre pegar a parte inteira da divisão de um número por outro. Imagine que você queira dividir 11 por 2. O resultado é 5.5, com parte inteira 5 e parte não inteira 0.5. Dessa forma, quando utilizamos o operador de divisão inteira (//), pegamos apenas 5. Observe o exemplo abaixo: "
   ]
  },
  {
   "cell_type": "code",
   "execution_count": 27,
   "id": "40add3b1",
   "metadata": {},
   "outputs": [
    {
     "name": "stdout",
     "output_type": "stream",
     "text": [
      "Divisão inteira de x por y: 5\n"
     ]
    }
   ],
   "source": [
    "# Atribuindo o valor 11 à variável x\n",
    "x = 11\n",
    "\n",
    "# Atribuindo o valor 2 à variável y\n",
    "y = 2\n",
    "\n",
    "# Exibindo o valor da divisão inteira de x por y\n",
    "print(f\"Divisão inteira de x por y: {x//y}\")"
   ]
  },
  {
   "cell_type": "markdown",
   "id": "82e4c741",
   "metadata": {},
   "source": [
    "## Resto da divisão (%)\n",
    "Indo para outro operador aritmético que alguns podem não conhecer, vamos falar sobre o operador que nos retorna o resto da divisão entre dois números (%). Utilizando o mesmo exemplo anterior, quando dividimos 11 por 2, temos como resultado inteiro 5 e resto 1. Por que resto 1? Note que 11 pode ser representado como 11 = 5\\*2 + 1, tendo o 1 como resto da divisão. Observe o exemplo abaixo:"
   ]
  },
  {
   "cell_type": "code",
   "execution_count": 31,
   "id": "41d227e2",
   "metadata": {},
   "outputs": [
    {
     "name": "stdout",
     "output_type": "stream",
     "text": [
      "O resto da divisão de x por y é: 1\n"
     ]
    }
   ],
   "source": [
    "# Atribuindo o valor 11 à variável x\n",
    "x = 11\n",
    "\n",
    "# Atribuindo o valor 2 à variável y\n",
    "y = 2\n",
    "\n",
    "# Exibindo o valor do resto da divisão de x por y\n",
    "print(f\"O resto da divisão de x por y é: {x%y}\")"
   ]
  },
  {
   "cell_type": "markdown",
   "id": "8056059e",
   "metadata": {},
   "source": [
    "<hr>\n",
    "\n",
    "# 3. Formatação de números em Python\n",
    "Quando vamos exibir números em Python, como fizemos acima, muitas vezes queremos formatá-los de uma maneira específica. Por exemplo, podemos querer exibir um número com 2 casas decimais, 3 casas decimais ou com separador de milhares para torná-lo mais fácil de ler. Para atingir esse objetivo, podemos usar as operações de formatação de números em Python.\n",
    "\n",
    "## Formatação de casas decimais\n",
    "Para começar, vamos falar sobre a formatação de casas decimais. Observe o exemplo abaixo:"
   ]
  },
  {
   "cell_type": "code",
   "execution_count": 32,
   "id": "381ea286",
   "metadata": {},
   "outputs": [
    {
     "name": "stdout",
     "output_type": "stream",
     "text": [
      "O valor de x com duas casas decimais é: 3.14\n"
     ]
    }
   ],
   "source": [
    "# Atribuindo o valor 3.14159 à variável x\n",
    "x = 3.14159\n",
    "\n",
    "# Exibindo x com apenas 2 casas decimais\n",
    "print(f\"O valor de x com duas casas decimais é: {x:.2f}\")"
   ]
  },
  {
   "cell_type": "markdown",
   "id": "b680e68a",
   "metadata": {},
   "source": [
    "Note que o número foi exibido com apenas duas casas decimais, fazendo o arredondamento matemático. Para provar, observe o outro exemplo abaixo:"
   ]
  },
  {
   "cell_type": "code",
   "execution_count": 33,
   "id": "bd25d30a",
   "metadata": {},
   "outputs": [
    {
     "name": "stdout",
     "output_type": "stream",
     "text": [
      "O valor de 'numero' com uma casa decimal é: 10.6\n"
     ]
    }
   ],
   "source": [
    "# Atribuindo o valor 10.56 à variável 'numero'\n",
    "numero = 10.56\n",
    "\n",
    "# Exibindo numero com 1 casa decimal\n",
    "print(f\"O valor de 'numero' com uma casa decimal é: {numero:.1f}\")"
   ]
  },
  {
   "cell_type": "markdown",
   "id": "b8a2a243",
   "metadata": {},
   "source": [
    "Note que ele arredondou para 10.6, visto que 0.56 é maior ou igual a 0.5."
   ]
  },
  {
   "cell_type": "markdown",
   "id": "3779ce9a",
   "metadata": {},
   "source": [
    "## Formatação de separador de milhares\n",
    "Agora, vamos falar sobre a formatação com separador de milhares no Python. Lembre-se de que a base da linguagem é o inglês e lá eles utilizam a vírgula (,) para separar os milhares e o ponto (.) para separar os decimais, ao contrário de nós. Observe o exemplo abaixo:"
   ]
  },
  {
   "cell_type": "code",
   "execution_count": 34,
   "id": "d8868c8c",
   "metadata": {},
   "outputs": [
    {
     "name": "stdout",
     "output_type": "stream",
     "text": [
      "O valor de num separado por milhar é: 1,947\n"
     ]
    }
   ],
   "source": [
    "# Atribuindo o valor 1947 à variável num\n",
    "num = 1947\n",
    "\n",
    "# Exibindo num com separador de milhares\n",
    "print(f\"O valor de num separado por milhar é: {num:,}\")"
   ]
  },
  {
   "cell_type": "markdown",
   "id": "e70db706",
   "metadata": {},
   "source": [
    "Agora, vamos fazer um exemplo separando milhares e filtrando as casas decimais."
   ]
  },
  {
   "cell_type": "code",
   "execution_count": 35,
   "id": "7ca86249",
   "metadata": {},
   "outputs": [
    {
     "name": "stdout",
     "output_type": "stream",
     "text": [
      "O valor de 'num' duplamente formatado é: 1,875.90\n"
     ]
    }
   ],
   "source": [
    "# Atribuindo o valor 1875.8965 à variável num\n",
    "num = 1875.8965\n",
    "\n",
    "# Exibindo num com separador de milhares e com 2 casas decimais\n",
    "print(f\"O valor de 'num' duplamente formatado é: {num:,.2f}\")"
   ]
  },
  {
   "cell_type": "markdown",
   "id": "e95821de",
   "metadata": {},
   "source": [
    "Essas são algumas das formatações disponíveis no Python. Tem outras para strings e datas, mas não acho necessário falar sobre elas agora. Para finalizar, vamos falar sobre ordem de precedência. \n",
    "\n",
    "<hr>\n",
    "\n",
    "# 4. Ordem de precedência\n",
    "Você já viu aqueles desafios que viralizam na internet? Observe o exemplo de desafio:\n",
    "\n",
    "<img src=\"https://i.pinimg.com/236x/53/ae/fa/53aefa58d82fccfefeb48fa5c452bfee.jpg\" class=\"center\" width=\"300\">\n",
    "\n",
    "Muitas pessoas erram esse tipo de problema porque não sabem sobre o tema que vamos abordar agora. A ordem de precedência é a ordem em que os operadores são executados em uma expressão. Em Python, a ordem de precedência é a seguinte:\n",
    "\n",
    "<ol>\n",
    "    <li> Parênteses\n",
    "    <li> Potência (**)\n",
    "    <li> Multiplicação (*), divisão (/), divisão inteira (//) e resto da divisão (%)\n",
    "    <li> Adição (+) e subtração (-)\n",
    "</ol>\n",
    "\n",
    "O exemplo acima, por exemplo, temos como resultado 10, porque realizamos primeiro as operações de multiplicação (5\\*2) e (1\\*0) e, somente depois, realizamos a adição dos resultados das multiplicações (10 + 0), que resulta em 10.\n",
    "\n",
    "Agora, segue uma implementação em Python:"
   ]
  },
  {
   "cell_type": "code",
   "execution_count": 36,
   "id": "9b3897d6",
   "metadata": {},
   "outputs": [
    {
     "name": "stdout",
     "output_type": "stream",
     "text": [
      "O resultado da expressão é: 10\n"
     ]
    }
   ],
   "source": [
    "# Expressão do exemplo\n",
    "expressao = 5*2 + 1*0\n",
    "\n",
    "# Exibindo o resultado\n",
    "print(f\"O resultado da expressão é: {expressao}\")"
   ]
  },
  {
   "cell_type": "code",
   "execution_count": 38,
   "id": "1480775a",
   "metadata": {},
   "outputs": [
    {
     "name": "stdout",
     "output_type": "stream",
     "text": [
      "O resultado da média é: 8.0\n"
     ]
    }
   ],
   "source": [
    "# Atribuindo o valor 5 à variável n1\n",
    "n1 = 5\n",
    "\n",
    "# Atribuindo o valor 11 à variável n2\n",
    "n2 = 11\n",
    "\n",
    "# Calculando a média desses números\n",
    "media = (n1+n2)/2\n",
    "\n",
    "# Exibindo resultado\n",
    "print(f\"O resultado da média é: {media}\")"
   ]
  },
  {
   "cell_type": "markdown",
   "id": "84993884",
   "metadata": {},
   "source": [
    "# Exercícios\n",
    "Chegou a hora de colocar seus conhecimentos em prática!\n",
    "\n",
    "## Exercício 009\n",
    "Faça um programa que peça ao usuário para digitar dois números e mostre na tela o resultado da soma, subtração, multiplicação, divisão e resto da divisão desses números"
   ]
  },
  {
   "cell_type": "code",
   "execution_count": null,
   "id": "872324f5",
   "metadata": {},
   "outputs": [],
   "source": []
  },
  {
   "cell_type": "markdown",
   "id": "2426a700",
   "metadata": {},
   "source": [
    "## Exercício 010\n",
    "Faça um programa que peça ao usuário o raio de um círculo e exiba na tela a área e o perímetro desse círculo (considere pi = 3.14). Aproxime para 2 casas decimais"
   ]
  },
  {
   "cell_type": "code",
   "execution_count": null,
   "id": "aac0ac36",
   "metadata": {},
   "outputs": [],
   "source": []
  },
  {
   "cell_type": "markdown",
   "id": "f12b89f7",
   "metadata": {},
   "source": [
    "## Exercício 011\n",
    "Faça um programa que peça ao usuário o preço de um produto e exiba o preço com um desconto de 10%"
   ]
  },
  {
   "cell_type": "code",
   "execution_count": null,
   "id": "0d4f004f",
   "metadata": {},
   "outputs": [],
   "source": []
  },
  {
   "cell_type": "markdown",
   "id": "7dab74b9",
   "metadata": {},
   "source": [
    "## Exercício 012\n",
    "Faça um programa que leia a temperatura em graus Celsius e exiba a temperatura em graus Fahrenheit. A fórmula para converter de Celsius para Fahrenheit é: F = (9/5)\\*C + 32"
   ]
  },
  {
   "cell_type": "code",
   "execution_count": null,
   "id": "15aa549b",
   "metadata": {},
   "outputs": [],
   "source": []
  },
  {
   "cell_type": "markdown",
   "id": "11837c84",
   "metadata": {},
   "source": [
    "## Exercício 013\n",
    "Faça um programa que peça ao usuário para digitar 3 números inteiros e exiba a média aritmética desses números. Aproxime para 1 casa decimal."
   ]
  },
  {
   "cell_type": "code",
   "execution_count": null,
   "id": "a880a11a",
   "metadata": {},
   "outputs": [],
   "source": []
  },
  {
   "cell_type": "markdown",
   "id": "21be9ab9",
   "metadata": {},
   "source": [
    "## Exercício 014\n",
    "Faça um programa que leia o peso e a altura de uma pessoa e exiba o índice de massa corporal (IMC) dela. A fórmula para calcular o IMC é: IMC = peso/altura², com aproximação em 3 casas decimais."
   ]
  },
  {
   "cell_type": "code",
   "execution_count": null,
   "id": "b5d42919",
   "metadata": {},
   "outputs": [],
   "source": []
  },
  {
   "cell_type": "markdown",
   "id": "0f7067b8",
   "metadata": {},
   "source": [
    "## Exercício 015\n",
    "Faça um programa que leia dois números inteiros do usuário e troque seus valores, ou seja, se o primeiro número for 5 e o segundo número for 7, o programa deve fazer com que o primeiro número seja igual a 7 e o segundo número seja igual a 5."
   ]
  },
  {
   "cell_type": "code",
   "execution_count": null,
   "id": "cc72ec76",
   "metadata": {},
   "outputs": [],
   "source": []
  },
  {
   "cell_type": "markdown",
   "id": "6f6376da",
   "metadata": {},
   "source": [
    "## Exercício 016\n",
    "Escreva um programa Python que leia um número inteiro e verifique se ele é par ou ímpar."
   ]
  },
  {
   "cell_type": "code",
   "execution_count": null,
   "id": "016434d6",
   "metadata": {},
   "outputs": [],
   "source": []
  },
  {
   "cell_type": "markdown",
   "id": "23ae0352",
   "metadata": {},
   "source": [
    "## Exercício 017\n",
    "Escreva um programa Python que leia um número e retorne seu quadrado, sua raíz quadrada e sua raíz cúbica, com aproximação em 2 casas decimais."
   ]
  },
  {
   "cell_type": "code",
   "execution_count": null,
   "id": "e6e9a7c7",
   "metadata": {},
   "outputs": [],
   "source": []
  },
  {
   "cell_type": "markdown",
   "id": "da2b562d",
   "metadata": {},
   "source": [
    "## Exercício 018\n",
    "Escreva um programa Python que leia o valor de dois catetos e retorne o valor da hipotenusa, assumindo que seja possível formar um triângulo"
   ]
  },
  {
   "cell_type": "code",
   "execution_count": null,
   "id": "1c649f71",
   "metadata": {},
   "outputs": [],
   "source": []
  }
 ],
 "metadata": {
  "kernelspec": {
   "display_name": "Python 3 (ipykernel)",
   "language": "python",
   "name": "python3"
  },
  "language_info": {
   "codemirror_mode": {
    "name": "ipython",
    "version": 3
   },
   "file_extension": ".py",
   "mimetype": "text/x-python",
   "name": "python",
   "nbconvert_exporter": "python",
   "pygments_lexer": "ipython3",
   "version": "3.9.12"
  }
 },
 "nbformat": 4,
 "nbformat_minor": 5
}
