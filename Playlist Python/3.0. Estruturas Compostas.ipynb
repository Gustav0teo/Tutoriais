{
 "cells": [
  {
   "cell_type": "markdown",
   "id": "f3f1d1e0",
   "metadata": {},
   "source": [
    "<img src=\"https://i.ibb.co/z4TNQBG/Screenshot-25.png\" width = 500>\n",
    "\n",
    "# 1. Introdução\n",
    "\n",
    "## O que são estruturas compostas?\n",
    "Nesta aula, vamos explorar diferentes estruturas compostas em Python. Vamos aprender sobre tuplas, listas, dicionários, conjuntos e técnicas de iteração. Entenderemos os conceitos fundamentais de cada estrutura e exploraremos exemplos de código em Python para manipular e trabalhar com essas estruturas.\n",
    "\n",
    "Estruturas compostas são formas de organizar e armazenar dados em Python. Elas permitem agrupar valores relacionados em uma única entidade, facilitando a manipulação e o acesso aos dados.\n",
    "\n",
    "Existem várias estruturas compostas em Python, e nesta aula vamos explorar algumas das mais comumente utilizadas:\n",
    "\n",
    "- Tuplas\n",
    "\n",
    "- Listas\n",
    "\n",
    "- Dicionários\n",
    "\n",
    "- Conjuntos\n",
    "\n",
    "Além dessas estruturas, também vamos explorar técnicas de iteração, que são formas de percorrer e processar os elementos de uma estrutura de dados. Através de loops, funções de iteração e operações específicas, podemos realizar tarefas como percorrer listas, aplicar funções a cada elemento, filtrar elementos com base em uma condição e reduzir sequências a um único valor.\n",
    "\n",
    "Ao entender essas estruturas compostas e as técnicas de iteração, você estará apto a manipular e trabalhar com uma variedade de dados em Python de forma eficiente e eficaz.\n",
    "\n",
    "<hr>\n",
    "\n",
    "# 2.  Tuplas\n",
    "As tuplas são estruturas de dados imutáveis em Python, o que significa que não é possível modificar seus elementos depois de criá-las. Elas são utilizadas quando queremos armazenar um conjunto de valores relacionados que não precisam ser alterados.\n",
    "\n",
    "Para criar uma tupla, podemos utilizar parênteses **()** ou a função **tuple()**. Por exemplo:"
   ]
  },
  {
   "cell_type": "code",
   "execution_count": 1,
   "id": "f650c549",
   "metadata": {},
   "outputs": [],
   "source": [
    "# Criando uma tupla utilizando parênteses com os valores 1, 2 e 3\n",
    "tupla1 = (1, 2, 3)\n",
    "\n",
    "# Criando uma tupla utilizando a função tuple() com os valores 1, 2 e 3\n",
    "tupla2 = tuple([1, 2, 3])"
   ]
  },
  {
   "cell_type": "markdown",
   "id": "6b3617c3",
   "metadata": {},
   "source": [
    "Podemos acessar os elementos de uma tupla utilizando índices, da mesma forma que fazemos com listas. O índice do primeiro elemento é 0. Por exemplo, **tupla1[0]** retorna o primeiro elemento da tupla1, que é 1."
   ]
  },
  {
   "cell_type": "code",
   "execution_count": 2,
   "id": "610c2308",
   "metadata": {},
   "outputs": [
    {
     "data": {
      "text/plain": [
       "1"
      ]
     },
     "execution_count": 2,
     "metadata": {},
     "output_type": "execute_result"
    }
   ],
   "source": [
    "# Acessando o primeiro elemento da tupla\n",
    "tupla1[0]"
   ]
  },
  {
   "cell_type": "markdown",
   "id": "2426d45a",
   "metadata": {},
   "source": [
    "Também é possível realizar fatiamento (slicing) em tuplas, que nos permite obter uma sub-tupla com base em uma faixa de índices. No exemplo abaixo, **tupla2[1:3]** retorna uma sub-tupla contendo os elementos de índice 1 e 2 (exclusivo)."
   ]
  },
  {
   "cell_type": "code",
   "execution_count": 3,
   "id": "014e8dc3",
   "metadata": {},
   "outputs": [
    {
     "data": {
      "text/plain": [
       "(2, 3)"
      ]
     },
     "execution_count": 3,
     "metadata": {},
     "output_type": "execute_result"
    }
   ],
   "source": [
    "# Fatiando a tupla (do segundo ao terceiro elemento)\n",
    "tupla1[1:3]"
   ]
  },
  {
   "cell_type": "markdown",
   "id": "ae8b12c5",
   "metadata": {},
   "source": [
    "Uma vez que as tuplas são imutáveis, não é possível adicionar, remover ou modificar elementos após a sua criação. No entanto, podemos realizar operações de concatenação e repetição de tuplas, assim como realizar comparações entre tuplas.\n",
    "\n",
    "As tuplas são frequentemente utilizadas quando queremos garantir que um conjunto de valores não seja alterado acidentalmente, como no caso de coordenadas geográficas (latitude, longitude) ou dados de um ponto fixo em um programa.\n",
    "\n",
    "Ao utilizar tuplas, é importante lembrar que elas não são adequadas para armazenar dados que podem ser alterados com frequência. Nesses casos, as listas são mais apropriadas, como veremos no próximo subtópico.\n",
    "\n",
    "<hr>\n",
    "\n",
    "# 2.  Listas\n",
    "As listas são estruturas de dados mutáveis em Python. Elas são coleções ordenadas de elementos, onde cada elemento é identificado por um índice. Ao contrário das tuplas, as listas podem ser modificadas após a sua criação.\n",
    "\n",
    "Para criar uma lista, utilizamos colchetes **[]** ou a função **list()**. Veja um exemplo:"
   ]
  },
  {
   "cell_type": "code",
   "execution_count": 5,
   "id": "2f51a096",
   "metadata": {},
   "outputs": [],
   "source": [
    "# Criando uma lista utilizando colchetes com os valores 1, 2 e 3\n",
    "lista1 = [1, 2, 3]\n",
    "\n",
    "# Criando uma lista utilizando a função list() com os valores 1, 2 e 3\n",
    "lista2 = list((1, 2, 3))"
   ]
  },
  {
   "cell_type": "markdown",
   "id": "01991ba6",
   "metadata": {},
   "source": [
    "Podemos acessar os elementos de uma lista utilizando os índices. O índice do primeiro elemento é 0. Por exemplo, **lista1[0]** retorna o primeiro elemento da lista1, que é 1."
   ]
  },
  {
   "cell_type": "code",
   "execution_count": 9,
   "id": "7f867135",
   "metadata": {},
   "outputs": [
    {
     "data": {
      "text/plain": [
       "1"
      ]
     },
     "execution_count": 9,
     "metadata": {},
     "output_type": "execute_result"
    }
   ],
   "source": [
    "# Acessando o primeiro elemento da lista\n",
    "lista1[0]"
   ]
  },
  {
   "cell_type": "markdown",
   "id": "0ba89ade",
   "metadata": {},
   "source": [
    "Também é possível realizar fatiamento (slicing) em listas, obtendo uma sub-lista com base em uma faixa de índices. No exemplo abaixo, **lista2[1:3]** retorna uma sub-lista contendo os elementos de índice 1 e 2 (exclusivo)."
   ]
  },
  {
   "cell_type": "code",
   "execution_count": 10,
   "id": "03764100",
   "metadata": {},
   "outputs": [
    {
     "data": {
      "text/plain": [
       "[2, 3]"
      ]
     },
     "execution_count": 10,
     "metadata": {},
     "output_type": "execute_result"
    }
   ],
   "source": [
    "# Fatiando a lista (do segundo ao terceiro elemento)\n",
    "lista2[1:3]"
   ]
  },
  {
   "cell_type": "markdown",
   "id": "ad2d0b70",
   "metadata": {},
   "source": [
    "## 2.1. Conceitos e manipulação\n",
    "Vamos explorar alguns conceitos e operações de manipulação de listas em Python.\n",
    "\n",
    "### Tamanho da lista\n",
    "Podemos obter o tamanho de uma lista utilizando a funçao **len()**. Por exemplo:"
   ]
  },
  {
   "cell_type": "code",
   "execution_count": 17,
   "id": "9bf39682",
   "metadata": {},
   "outputs": [
    {
     "name": "stdout",
     "output_type": "stream",
     "text": [
      "3\n"
     ]
    }
   ],
   "source": [
    "# Criando uma lista com os elementos 1, 2 e 3\n",
    "lista = [1, 2, 3]\n",
    "\n",
    "# Armazenando o tamanho da lista na variável \"tamanho\"\n",
    "tamanho = len(lista)\n",
    "\n",
    "# Exibindo o tamanho da lista\n",
    "print(tamanho)"
   ]
  },
  {
   "cell_type": "markdown",
   "id": "ea074441",
   "metadata": {},
   "source": [
    "### Adicionar elementos\n",
    "Podemos adicionar elementos a uma lista utilizando o método **append()**. O método **append()** adiciona um elemento ao final da lista. Veja um exemplo:"
   ]
  },
  {
   "cell_type": "code",
   "execution_count": 18,
   "id": "e170d82c",
   "metadata": {},
   "outputs": [
    {
     "name": "stdout",
     "output_type": "stream",
     "text": [
      "[1, 2, 3, 4]\n"
     ]
    }
   ],
   "source": [
    "# Adicionando o elemento 4 na lista anterior\n",
    "lista.append(4)\n",
    "\n",
    "# Exibindo a lista com o elemento 4 no final\n",
    "print(lista)"
   ]
  },
  {
   "cell_type": "markdown",
   "id": "9b5fea10",
   "metadata": {},
   "source": [
    "### Remover elementos\n",
    "Podemos remover elementos de uma lista utilizando os métodos **remove()** ou **pop()**. O método **remove()** remove a primeira ocorrência do elemento especificado, enquanto o método **pop()** remove o elemento pelo seu índice. Veja exemplos:"
   ]
  },
  {
   "cell_type": "code",
   "execution_count": 19,
   "id": "feedf02e",
   "metadata": {},
   "outputs": [
    {
     "name": "stdout",
     "output_type": "stream",
     "text": [
      "Sem o 2: [1, 3, 4]\n",
      "Sem o elemento cujo índice é 1: [1, 4]\n"
     ]
    }
   ],
   "source": [
    "# Removendo o elemento '2' da lista\n",
    "lista.remove(2)\n",
    "\n",
    "# Exibindo a lista sem o 2\n",
    "print(f\"Sem o 2: {lista}\")\n",
    "\n",
    "# Removendo o elemento com índice 1\n",
    "lista.pop(1)\n",
    "\n",
    "# Exibindo a lista sem o elemento cujo índice é 1\n",
    "print(f\"Sem o elemento cujo índice é 1: {lista}\")"
   ]
  },
  {
   "cell_type": "markdown",
   "id": "b1c80b49",
   "metadata": {},
   "source": [
    "### Verificar a existência de um elemento\n",
    "Podemos verificar se um elemento está presente em uma lista utilizando o operador **in**. O operador **in** retorna *True* se o elemento estiver na lista e *False* caso contrário. Veja um exemplo:"
   ]
  },
  {
   "cell_type": "code",
   "execution_count": 22,
   "id": "45bc289b",
   "metadata": {},
   "outputs": [
    {
     "name": "stdout",
     "output_type": "stream",
     "text": [
      "True\n"
     ]
    }
   ],
   "source": [
    "# Criando uma nova lista com os elementos 1, 2, 3 e 4\n",
    "lista = [1, 2, 3, 4]\n",
    "\n",
    "# Verificando se o elemento 2 pertence à lista e armazenando o resultado na variável \"existe\"\n",
    "existe = 2 in lista\n",
    "\n",
    "# Exibindo o resultado\n",
    "print(existe)"
   ]
  },
  {
   "cell_type": "markdown",
   "id": "826f4397",
   "metadata": {},
   "source": [
    "## 2.2. Listas Bidimensionais\n",
    "Além de armazenar elementos simples, as listas também podem armazenar outras listas, criando assim uma estrutura de lista bidimensional. Essa estrutura é útil quando precisamos representar matrizes ou tabelas de dados.\n",
    "\n",
    "Para criar uma lista bidimensional,podemos utilizar uma lista de listas. Cada lista interna representa uma linha da matriz bidimensional. Veja um exemplo:"
   ]
  },
  {
   "cell_type": "code",
   "execution_count": 28,
   "id": "3fb13756",
   "metadata": {},
   "outputs": [],
   "source": [
    "# Criando uma matriz identidade 3x3\n",
    "matriz = [[1, 0, 0],\n",
    "          [0, 1, 0],\n",
    "          [0, 0, 1]]"
   ]
  },
  {
   "cell_type": "markdown",
   "id": "10772d66",
   "metadata": {},
   "source": [
    "Podemos acessar os elementos da lista bidimensional utilizando dois índices: um para a linha e outro para a coluna. Por exemplo, **matriz[1][1]** retorna o elemento na segunda linha e segunda coluna, que é o valor 1, o elemento central da matriz."
   ]
  },
  {
   "cell_type": "code",
   "execution_count": 29,
   "id": "a0a4e156",
   "metadata": {},
   "outputs": [
    {
     "data": {
      "text/plain": [
       "1"
      ]
     },
     "execution_count": 29,
     "metadata": {},
     "output_type": "execute_result"
    }
   ],
   "source": [
    "# Exibindo o elemento central da matriz\n",
    "matriz[1][1]"
   ]
  },
  {
   "cell_type": "markdown",
   "id": "cabea5ec",
   "metadata": {},
   "source": [
    "Podemos percorrer todos os elementos de uma lista bidimensional utilizando loops aninhados. O primeiro loop percorre as linhas, e o segundo loop percorre os elementos de cada linha. Veja um exemplo:"
   ]
  },
  {
   "cell_type": "code",
   "execution_count": 32,
   "id": "4677adc9",
   "metadata": {},
   "outputs": [
    {
     "name": "stdout",
     "output_type": "stream",
     "text": [
      "1\n",
      "0\n",
      "0\n",
      "0\n",
      "1\n",
      "0\n",
      "0\n",
      "0\n",
      "1\n"
     ]
    }
   ],
   "source": [
    "# Exibindo todos os elementos da matriz percorrendo as linhas e colunas com loop for\n",
    "for linha in matriz:\n",
    "    for elemento in linha:\n",
    "        print(elemento)"
   ]
  },
  {
   "cell_type": "markdown",
   "id": "604ca7cd",
   "metadata": {},
   "source": [
    "Nesse exemplo, o código imprimirá todos os elementos da matriz, linha por linha.\n",
    "\n",
    "<hr>\n",
    "\n",
    "## 2.3. List Comprehensions\n",
    "As List Comprehensions são uma forma concisa e poderosa de criar listas em Python. Elas permitem criar listas a partir de sequências existentes ou de elementos com base em uma condição, de forma simplificada e elegante.\n",
    "\n",
    "A sintaxe básica de uma List Comprehension é a seguinte:\n",
    "\n",
    "```nova_lista = [expressão for item in sequência if condição]```\n",
    "\n",
    "A **expressão** define como cada elemento da lista resultante será calculado ou transformado. O **item** é a variável que representa cada elemento da sequência. A **sequência** é a fonte de dados, como uma lista, uma tupla ou um iterável. A **condição** (opcional) é uma expressão que define um filtro para selecionar apenas os elementos que atendem a determinada condição.\n",
    "\n",
    "Vejamos alguns exemplos de List Comprehensions:\n",
    "\n",
    "### Exemplo 1"
   ]
  },
  {
   "cell_type": "code",
   "execution_count": 36,
   "id": "8399545b",
   "metadata": {},
   "outputs": [
    {
     "name": "stdout",
     "output_type": "stream",
     "text": [
      "[1, 4, 9, 16, 25]\n"
     ]
    }
   ],
   "source": [
    "# Criar uma lista com os quadrados dos números de 1 a 5\n",
    "lista = [x**2 for x in range(1, 6)]\n",
    "\n",
    "print(lista)"
   ]
  },
  {
   "cell_type": "markdown",
   "id": "38d78954",
   "metadata": {},
   "source": [
    "Nesse exemplo, a List Comprehension gera uma nova lista onde cada elemento é o quadrado do valor **x** para cada **x** no intervalo de 1 a 5.\n",
    "\n",
    "### Exemplo 2"
   ]
  },
  {
   "cell_type": "code",
   "execution_count": 37,
   "id": "e54f3a5c",
   "metadata": {},
   "outputs": [
    {
     "name": "stdout",
     "output_type": "stream",
     "text": [
      "[2, 4, 6, 8, 10]\n"
     ]
    }
   ],
   "source": [
    "# Criar uma lista com os números pares de 1 a 10\n",
    "pares = [x for x in range(1, 11) if x%2 == 0]\n",
    "\n",
    "print(pares)"
   ]
  },
  {
   "cell_type": "markdown",
   "id": "d52fee7b",
   "metadata": {},
   "source": [
    "Nesse exemplo, a List Comprehension gera uma nova lista onde cada elemento x é selecionado apenas se for divisível por 2 (ou seja, se for par) no intervalo de 1 a 10.\n",
    "\n",
    "As List Comprehensions são uma ferramenta poderosa para criar listas de forma concisa e expressiva, evitando a necessidade de escrever loops tradicionais. Elas são amplamente utilizadas em Python devido à sua simplicidade e eficiência."
   ]
  },
  {
   "cell_type": "markdown",
   "id": "920cd2b2",
   "metadata": {},
   "source": [
    "<hr>\n",
    "\n",
    "# 3.  Dicionários\n",
    "Os dicionários são estruturas de dados em Python que armazenam pares de chave-valor. Cada valor é associado a uma chave única, permitindo um acesso eficiente aos elementos do dicionário.\n",
    "\n",
    "Para criar um dicionário, utilizamos chaves **{}** ou a função **dict()**. Veja um exemplo:"
   ]
  },
  {
   "cell_type": "code",
   "execution_count": 38,
   "id": "6e46848b",
   "metadata": {},
   "outputs": [],
   "source": [
    "# Criando um dicionário com as chaves para armazenar minhas informações (nome, idade e cidade)\n",
    "dicionario1 = {'nome': 'Anwar', 'idade': 20, 'cidade': \"Lavras\"}\n",
    "\n",
    "# Criando um dicionário com a função dict() para armazenar minhas informações (nome, idade e cidade)\n",
    "dicionario2 = dict(nome = \"Anwar\", idade = 20, cidade = \"Lavras\")"
   ]
  },
  {
   "cell_type": "markdown",
   "id": "d342ffbc",
   "metadata": {},
   "source": [
    "Podemos acessar os valores de um dicionário utilizando os colchetes. Por exemplo, **dicionario1[\"nome\"]** retorna o valor associado à chave \"nome\" no dicionário1, que é \"Anwar\"."
   ]
  },
  {
   "cell_type": "code",
   "execution_count": 42,
   "id": "830c305f",
   "metadata": {},
   "outputs": [
    {
     "name": "stdout",
     "output_type": "stream",
     "text": [
      "Anwar\n"
     ]
    }
   ],
   "source": [
    "# Armazenando o valor associado à chave \"nome\" na variável \"nome\"\n",
    "nome = dicionario1[\"nome\"]\n",
    "\n",
    "# Exibindo meu nome\n",
    "print(nome)"
   ]
  },
  {
   "cell_type": "markdown",
   "id": "23b8ba02",
   "metadata": {},
   "source": [
    "Também podemos adicionar, modificar e remover elementos de um dicionário utilizando as seguintes operações:\n",
    "\n",
    "## Adicionar elementos\n",
    "Para adicionar um novo par chave-valor a um dicionário, basta atribuir um valor a uma nova chave. Por exemplo:"
   ]
  },
  {
   "cell_type": "code",
   "execution_count": 43,
   "id": "c5f320a0",
   "metadata": {},
   "outputs": [
    {
     "name": "stdout",
     "output_type": "stream",
     "text": [
      "{'nome': 'Anwar', 'idade': 20, 'cidade': 'Lavras', 'sobrenome': 'Hermuche'}\n"
     ]
    }
   ],
   "source": [
    "# Adicionando uma informação sobre o meu sobrenome no dicionário\n",
    "dicionario1[\"sobrenome\"] = \"Hermuche\"\n",
    "\n",
    "# Exibindo dicionário\n",
    "print(dicionario1)"
   ]
  },
  {
   "cell_type": "markdown",
   "id": "7b0b614a",
   "metadata": {},
   "source": [
    "## Modificar elementos\n",
    "Para modificar o valor de um elemento existente em um dicionário, basta atribuir um novo valor à chave correspondente. Por exemplo:"
   ]
  },
  {
   "cell_type": "code",
   "execution_count": 44,
   "id": "60c5ba37",
   "metadata": {},
   "outputs": [
    {
     "name": "stdout",
     "output_type": "stream",
     "text": [
      "{'nome': 'Anwar', 'idade': 35, 'cidade': 'Lavras', 'sobrenome': 'Hermuche'}\n"
     ]
    }
   ],
   "source": [
    "# Alterando minha idade para 35\n",
    "dicionario1[\"idade\"] = 35\n",
    "\n",
    "# Exibindo dicionário\n",
    "print(dicionario1)"
   ]
  },
  {
   "cell_type": "markdown",
   "id": "d54de414",
   "metadata": {},
   "source": [
    "## Acessando chaves e valores\n",
    "Para acessar as chaves ou os valores existentes em um dicionário, basta utilizar o método **keys()** ou **values()**, respectivamente. Por exemplo:"
   ]
  },
  {
   "cell_type": "code",
   "execution_count": 47,
   "id": "32f79c16",
   "metadata": {},
   "outputs": [
    {
     "name": "stdout",
     "output_type": "stream",
     "text": [
      "['nome', 'idade', 'cidade', 'sobrenome']\n",
      "['Anwar', 35, 'Lavras', 'Hermuche']\n"
     ]
    }
   ],
   "source": [
    "# Acessando as chaves do nosso dicionário e armazenando na variável \"chaves\"\n",
    "chaves = list(dicionario1.keys())\n",
    "\n",
    "# Exibindo o valor da variável \"chaves\"\n",
    "print(chaves)\n",
    "\n",
    "# Acessando os valores do nosso dicionário e armazenando na variável \"valores\"\n",
    "valores = list(dicionario1.values())\n",
    "\n",
    "# Exibindo o valor da variável \"valores\"\n",
    "print(valores)"
   ]
  },
  {
   "cell_type": "markdown",
   "id": "0e77d749",
   "metadata": {},
   "source": [
    "## Remover elementos\n",
    "Para remover um elemento de um dicionário, utilizamos o comando **del** seguido da chave correspondente. Por exemplo:"
   ]
  },
  {
   "cell_type": "code",
   "execution_count": 48,
   "id": "50ffa8b8",
   "metadata": {},
   "outputs": [
    {
     "name": "stdout",
     "output_type": "stream",
     "text": [
      "{'nome': 'Anwar', 'idade': 35, 'cidade': 'Lavras'}\n"
     ]
    }
   ],
   "source": [
    "# Deletando a informação sobre meu sobrenome com o del\n",
    "del dicionario1[\"sobrenome\"]\n",
    "\n",
    "# Exibindo o dicionário\n",
    "print(dicionario1)"
   ]
  },
  {
   "cell_type": "markdown",
   "id": "d25a9539",
   "metadata": {},
   "source": [
    "Os dicionários são muito úteis quando precisamos armazenar informações associadas a chaves específicas, como informações de usuário, configurações de um programa ou dados de um banco de dados. Eles permitem um acesso rápido aos valores com base nas chaves e são uma ferramenta poderosa para manipulação de dados em Python.\n",
    "\n",
    "<hr>\n",
    "\n",
    "# 4. Conjuntos\n",
    "Os conjuntos são estruturas de dados em Python que armazenam coleções de elementos únicos, sem uma ordem definida. Eles são úteis quando precisamos armazenar elementos sem nos preocupar com a repetição.\n",
    "\n",
    "Para criar um conjunto, utilizamos chaves **{}** ou a função **set()**. Veja um exemplo:"
   ]
  },
  {
   "cell_type": "code",
   "execution_count": 49,
   "id": "82601956",
   "metadata": {},
   "outputs": [],
   "source": [
    "# Criando um conjunto utilizando as chaves com os números 1, 2, 3 e 4\n",
    "conjunto1 = {1, 2, 3, 4}\n",
    "\n",
    "# Criando um conjunto utilizando a função set() com os números 1, 2, 3 e 4\n",
    "conjunto2 = set([1, 2, 3, 4])"
   ]
  },
  {
   "cell_type": "markdown",
   "id": "97b5c851",
   "metadata": {},
   "source": [
    "Podemos verificar a existência de um elemento em um conjunto utilizando o operador **in**. Por exemplo, ```3 in conjunto``` retorna *True* se o elemento 3 estiver presente no conjunto."
   ]
  },
  {
   "cell_type": "code",
   "execution_count": 50,
   "id": "c276d9a8",
   "metadata": {},
   "outputs": [
    {
     "name": "stdout",
     "output_type": "stream",
     "text": [
      "True\n"
     ]
    }
   ],
   "source": [
    "# Atribuindo à variável \"existe\" o valor booleano indicando se o número 3 está no conjunto\n",
    "existe = 3 in conjunto1\n",
    "\n",
    "# Exibindo o valor da variável existe\n",
    "print(existe)"
   ]
  },
  {
   "cell_type": "markdown",
   "id": "65293617",
   "metadata": {},
   "source": [
    "Também podemos adicionar e remover elementos de um conjunto utilizando os seguintes métodos:\n",
    "\n",
    "### Adicionar elementos\n",
    "Utilizamos o método **add()** para adicionar um elemento a um conjunto. Por exemplo:"
   ]
  },
  {
   "cell_type": "code",
   "execution_count": 51,
   "id": "4aed312a",
   "metadata": {},
   "outputs": [
    {
     "name": "stdout",
     "output_type": "stream",
     "text": [
      "{1, 2, 3, 4, 5}\n"
     ]
    }
   ],
   "source": [
    "# Adicionando o número 5 ao conjunto\n",
    "conjunto1.add(5)\n",
    "\n",
    "# Exibindo conjunto\n",
    "print(conjunto1)"
   ]
  },
  {
   "cell_type": "markdown",
   "id": "14189b1b",
   "metadata": {},
   "source": [
    "Note que o número 5 foi adicionado ao conjunto, mas o que acontece se eu adicionar o número 3, sendo que ele já está no conjunto?"
   ]
  },
  {
   "cell_type": "code",
   "execution_count": 52,
   "id": "723f755f",
   "metadata": {},
   "outputs": [
    {
     "name": "stdout",
     "output_type": "stream",
     "text": [
      "{1, 2, 3, 4, 5}\n"
     ]
    }
   ],
   "source": [
    "# Adicionando o número 3 ao conjunto\n",
    "conjunto1.add(3)\n",
    "\n",
    "# Exibindo conjunto\n",
    "print(conjunto1)"
   ]
  },
  {
   "cell_type": "markdown",
   "id": "6f3dbcbf",
   "metadata": {},
   "source": [
    "## Remover elementos\n",
    "Utilizamos o método **remove()** para remover um elemento de um conjunto. Por exemplo:"
   ]
  },
  {
   "cell_type": "code",
   "execution_count": 53,
   "id": "c75a7023",
   "metadata": {},
   "outputs": [
    {
     "name": "stdout",
     "output_type": "stream",
     "text": [
      "{1, 3, 4, 5}\n"
     ]
    }
   ],
   "source": [
    "# Removendo o elemento 2 do conjunto\n",
    "conjunto1.remove(2)\n",
    "\n",
    "# Exibindo o conjunto\n",
    "print(conjunto1)"
   ]
  },
  {
   "cell_type": "markdown",
   "id": "cf1881d3",
   "metadata": {},
   "source": [
    "Os conjuntos são úteis quando precisamos armazenar elementos sem nos preocupar com a ordem ou repetição. Eles são eficientes para realizar operações de união, interseção, diferença e outras operações matemáticas entre conjuntos.\n",
    "\n",
    "Os dicionários e conjuntos são estruturas de dados poderosas em Python que nos permitem organizar e manipular informações de forma eficiente. Eles são amplamente utilizados em uma variedade de aplicações, desde o processamento de dados até o desenvolvimento de algoritmos mais complexos.\n",
    "\n",
    "<hr>\n",
    "\n",
    "# 5. Técnicas de Iteração\n",
    "A iteração é uma técnica fundamental na programação, pois nos permite percorrer e processar os elementos de uma estrutura de dados. Em Python, temos várias ferramentas poderosas para realizar iterações de forma eficiente e concisa.\n",
    "\n",
    "## 5.1. Loop for\n",
    "O loop for é amplamente utilizado para percorrer os elementos de uma sequência (como uma lista, tupla, dicionário, etc.) ou para executar um bloco de código um número específico de vezes. Com o loop for, podemos acessar cada elemento da sequência em cada iteração.\n",
    "\n",
    "### Exemplo 1"
   ]
  },
  {
   "cell_type": "code",
   "execution_count": 54,
   "id": "c26e0ca0",
   "metadata": {},
   "outputs": [
    {
     "name": "stdout",
     "output_type": "stream",
     "text": [
      "1\n",
      "2\n",
      "3\n",
      "4\n",
      "5\n"
     ]
    }
   ],
   "source": [
    "# Criando lista [1, 2, 3, 4, 5] na variável lista\n",
    "lista = [1, 2, 3, 4, 5]\n",
    "\n",
    "# Percorrendo e exibindo os elementos da lista \n",
    "for elemento in lista:\n",
    "    print(elemento)"
   ]
  },
  {
   "cell_type": "markdown",
   "id": "6adf20bf",
   "metadata": {},
   "source": [
    "### Exemplo 2"
   ]
  },
  {
   "cell_type": "code",
   "execution_count": 55,
   "id": "f13c79dd",
   "metadata": {},
   "outputs": [
    {
     "name": "stdout",
     "output_type": "stream",
     "text": [
      "1\n",
      "2\n",
      "3\n",
      "4\n",
      "5\n"
     ]
    }
   ],
   "source": [
    "# Criando tupla (1, 2, 3, 4, 5) na variável tupla\n",
    "tupla = (1, 2, 3, 4, 5)\n",
    "\n",
    "# Percorrendo e exibindo os elementaos da tupla\n",
    "for elemento in tupla:\n",
    "    print(elemento)"
   ]
  },
  {
   "cell_type": "markdown",
   "id": "fa74c650",
   "metadata": {},
   "source": [
    "### Exemplo 3"
   ]
  },
  {
   "cell_type": "code",
   "execution_count": 60,
   "id": "59528e81",
   "metadata": {},
   "outputs": [
    {
     "name": "stdout",
     "output_type": "stream",
     "text": [
      "nome Anwar\n",
      "idade 20\n",
      "cidade Lavras\n"
     ]
    }
   ],
   "source": [
    "# Criando dicionário {\"nome\": \"Anwar\", \"idade\": 20, \"cidade\": \"Lavras\"} na variável dicionario\n",
    "dicionario = {\"nome\": \"Anwar\", \"idade\": 20, \"cidade\": \"Lavras\"}\n",
    "\n",
    "# Percorrendo e exibindo as chaves e valores do dicionário \n",
    "for item in dicionario:\n",
    "    print(item, dicionario[item])"
   ]
  },
  {
   "cell_type": "markdown",
   "id": "94049d27",
   "metadata": {},
   "source": [
    "## 5.2. Função map()\n",
    "A função **map()** é utilizada para aplicar uma função a cada elemento de uma sequência e retorna um iterador contendo os resultados. Essa função é útil quando precisamos realizar uma operação em todos os elementos de uma sequência de forma eficiente. Vejamos um exemplo:"
   ]
  },
  {
   "cell_type": "code",
   "execution_count": 69,
   "id": "a4d5330b",
   "metadata": {},
   "outputs": [
    {
     "name": "stdout",
     "output_type": "stream",
     "text": [
      "[2, 4, 6, 8, 10]\n"
     ]
    }
   ],
   "source": [
    "# Definindo uma função que receberá um número e retornará o dobro de seu valor\n",
    "def dobrar(numero):\n",
    "    return numero*2\n",
    "\n",
    "# Criando uma lista de números de 1 a 5\n",
    "lista = [1, 2, 3, 4, 5]\n",
    "\n",
    "# Dobrando todos os números da lista e armazenando na variável resultado\n",
    "resultado = list(map(dobrar, lista))\n",
    "\n",
    "# Exibindo o valor da variável resultado\n",
    "print(resultado)"
   ]
  },
  {
   "cell_type": "markdown",
   "id": "a43d48c4",
   "metadata": {},
   "source": [
    "Nesse exemplo, a função **dobrar()** é aplicada a cada elemento da lista, resultando em uma nova lista onde cada elemento é o dobro do valor original.\n",
    "\n",
    "## 5.3. Função filter()\n",
    "A função **filter()** é utilizada para filtrar uma sequência com base em uma condição. Ela retorna um iterador contendo apenas os elementos que satisfazem a condição especificada. Vejamos um exemplo:"
   ]
  },
  {
   "cell_type": "code",
   "execution_count": 70,
   "id": "e20962e1",
   "metadata": {},
   "outputs": [
    {
     "name": "stdout",
     "output_type": "stream",
     "text": [
      "[2, 4]\n"
     ]
    }
   ],
   "source": [
    "# Definindo uma função que recebe um número e retorna True se ele for par e False caso contrário\n",
    "def par(numero):\n",
    "    if numero%2 == 0:\n",
    "        return True\n",
    "    else:\n",
    "        return False\n",
    "\n",
    "# Armazenando na variável resultado a lista resultante do filtro que aplicamos\n",
    "resultado = list(filter(par, lista))\n",
    "\n",
    "# Exibindo o valor da variável resultado\n",
    "print(resultado)"
   ]
  },
  {
   "cell_type": "markdown",
   "id": "70ae6bad",
   "metadata": {},
   "source": [
    "Nesse exemplo, a função **par()** é aplicada a cada elemento da lista e apenas os elementos que retornam *True* para a condição de paridade são mantidos no resultado.\n",
    "\n",
    "## 5.4. Função reduce()\n",
    "A função **reduce()** é uma técnica de iteração que permite reduzir uma sequência a um único valor aplicando repetidamente uma função binária aos elementos da sequência. Essa função está disponível no módulo **functools** a partir do Python 3. A partir do Python 3.9, ela foi movida para o módulo **functools.reduce**. Parautilizá-la, é necessário importar o módulo **functools** e, em seguida, utilizar a sintaxe **reduce()** para chamar a função."
   ]
  },
  {
   "cell_type": "code",
   "execution_count": 73,
   "id": "c57f93ff",
   "metadata": {},
   "outputs": [
    {
     "name": "stdout",
     "output_type": "stream",
     "text": [
      "15\n"
     ]
    }
   ],
   "source": [
    "# Importando a função reduce\n",
    "from functools import reduce\n",
    "\n",
    "# Definindo uma função binária de soma\n",
    "def somar(x, y):\n",
    "    return x + y\n",
    "\n",
    "# Armazenando na variável resultado a soma resultante dos elementos da lista de 1 a 5\n",
    "resultado = reduce(somar, lista)\n",
    "\n",
    "# Exibindo o valor da variável resultado\n",
    "print(resultado)"
   ]
  },
  {
   "cell_type": "markdown",
   "id": "db78d646",
   "metadata": {},
   "source": [
    "Nesse exemplo, a função **somar()** é aplicada aos elementos da lista de forma acumulativa, resultando na soma de todos os elementos. A função **reduce()** itera sobre a sequência, aplicando a função **somar()** aos pares de elementos sucessivos até reduzir a sequência a um único valor."
   ]
  },
  {
   "cell_type": "markdown",
   "id": "84993884",
   "metadata": {},
   "source": [
    "# Exercícios\n",
    "Chegou a hora de colocar seus conhecimentos em prática!\n",
    "\n",
    "## Exercício 043\n",
    "Faça um programa que receba números do usuário até ele digitar -1 e armazene todos esses números em uma lista. Por fim, exiba na tela: \"A soma dos números que você passou foi: {soma}\"."
   ]
  },
  {
   "cell_type": "code",
   "execution_count": null,
   "id": "e76ec4eb",
   "metadata": {},
   "outputs": [],
   "source": []
  },
  {
   "cell_type": "markdown",
   "id": "931fed46",
   "metadata": {},
   "source": [
    "## Exercício 044\n",
    "Faça um programa que receba informações de 4 pessoas. As informações são: \"nome\", \"idade\" e \"cidade\". Armazene essas informações em um dicionário e, ao final, retorne a seguinte mensagem: \"{nome} é o mais velho e mora em {cidade}.\""
   ]
  },
  {
   "cell_type": "code",
   "execution_count": null,
   "id": "353951a1",
   "metadata": {},
   "outputs": [],
   "source": []
  },
  {
   "cell_type": "markdown",
   "id": "f12b89f7",
   "metadata": {},
   "source": [
    "## Exercício 045\n",
    "Faça um programa que peça ao usuário para digitar alguns números até ele digitar -1. Armazene todos esses números em uma lista e, por fim, exiba na tela essa lista com todos os elementos somados em 10 unidades (utilize a função **map()**)."
   ]
  },
  {
   "cell_type": "code",
   "execution_count": null,
   "id": "3be17c94",
   "metadata": {},
   "outputs": [],
   "source": []
  },
  {
   "cell_type": "markdown",
   "id": "7dab74b9",
   "metadata": {},
   "source": [
    "## Exercício 046\n",
    "Faça um programa que receba duas entradas: a quantidade de linhas e colunas, nessa ordem, de uma matriz. Após isso, solicite que ele digite o valor correspondente a cada posição dessa matriz: \"Digite o valor para a linha {i} e coluna {j}: \". Ao final, retorne a multiplicação de todos os elementos dessa matriz. "
   ]
  },
  {
   "cell_type": "code",
   "execution_count": null,
   "id": "eec7f7ce",
   "metadata": {},
   "outputs": [],
   "source": []
  },
  {
   "cell_type": "markdown",
   "id": "f35e54ea",
   "metadata": {},
   "source": [
    "## Exercício 047\n",
    "Faça um programa que, utilizando a mesma lógica do exercício anterior, retorne o maior elemento de cada uma das linhas da matriz."
   ]
  },
  {
   "cell_type": "code",
   "execution_count": null,
   "id": "dee7ba93",
   "metadata": {},
   "outputs": [],
   "source": []
  },
  {
   "cell_type": "markdown",
   "id": "3058242d",
   "metadata": {},
   "source": [
    "## Exercício 048\n",
    "Faça um programa que receba palavras de um usuário até que ele digite \"goiabada\" e adicione todas essas palavras em uma lista. Após isso, retorne uma lista com todas as palavras que não possua vogal (utilize a função **filter()**). "
   ]
  },
  {
   "cell_type": "code",
   "execution_count": null,
   "id": "679c5137",
   "metadata": {},
   "outputs": [],
   "source": []
  },
  {
   "cell_type": "markdown",
   "id": "90484e3f",
   "metadata": {},
   "source": [
    "## Exercício 049\n",
    "Faça um programa que receba o nome e a temperatura máxima de várias cidades e ao longo de uma semana e armazene essas informações em um dicionário, onde a chave é o nome da cidade e o valor é a temperatura máxima (pare de receber informações quando o usuário digitar \"goiabada\" no nome da cidade). O programa deve retornar em quantos graus a maior temperatura supera a média das temperaturas."
   ]
  },
  {
   "cell_type": "code",
   "execution_count": null,
   "id": "d095898c",
   "metadata": {},
   "outputs": [],
   "source": []
  }
 ],
 "metadata": {
  "kernelspec": {
   "display_name": "Python 3 (ipykernel)",
   "language": "python",
   "name": "python3"
  },
  "language_info": {
   "codemirror_mode": {
    "name": "ipython",
    "version": 3
   },
   "file_extension": ".py",
   "mimetype": "text/x-python",
   "name": "python",
   "nbconvert_exporter": "python",
   "pygments_lexer": "ipython3",
   "version": "3.9.12"
  }
 },
 "nbformat": 4,
 "nbformat_minor": 5
}
